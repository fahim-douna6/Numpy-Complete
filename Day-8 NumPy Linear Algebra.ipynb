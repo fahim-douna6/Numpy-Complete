{
 "cells": [
  {
   "cell_type": "markdown",
   "id": "a9aaac0e-ec5a-4d07-a2e6-5e082c8b1383",
   "metadata": {},
   "source": [
    "# **NumPy Linear Algebra**\n",
    "\n",
    "\n",
    "**NumPy** is a powerful library in Python used for scientific computing, especially for working with arrays and matrices. One of the key features of NumPy is its support for linear algebra operations.\n",
    "\n",
    "Linear algebra is a branch of mathematics that deals with linear equations, matrices, and vectors. In NumPy, linear algebra operations are performed using the linalg module. This module contains a wide range of functions for performing various linear algebra operations, such as matrix multiplication, solving linear equations, finding determinants and eigenvalues, and performing singular value decomposition (SVD).\n",
    "\n",
    "Using NumPy's linear algebra capabilities, you can efficiently and accurately perform complex calculations on matrices and arrays, making it a valuable tool for scientific computing and data analysis.\n",
    "\n",
    "NumPy provides the following functions to perform the different algebraic calculations on the input data:"
   ]
  },
  {
   "cell_type": "markdown",
   "id": "ddbf7336-a273-4066-8eb3-a995ad71ea10",
   "metadata": {},
   "source": [
    "| SN | Function  | Definition |\n",
    "|:---------|:--------:|---------:|\n",
    "|   1   |  dot()   |  It is used to calculate the dot product of two arrays.   |\n",
    "|   2   |  vdot()  |  It is used to calculate the dot product of two vectors.  |\n",
    "|   3   |  inner()   |  It is used to calculate the inner product of two arrays.   |\n",
    "|   4   |  matmul()  | It is used to calculate the matrix multiplication of two arrays.   |\n",
    "|   5   |  det()   | It is used to calculate the determinant of a matrix.   |\n",
    "|   6   |  solve()  |  It is used to solve the linear matrix equation.  |\n",
    "|   7   |  inv()   |  It is used to calculate the multiplicative inverse of the matrix.   |"
   ]
  },
  {
   "cell_type": "markdown",
   "id": "688b5dec-54e9-4216-9d99-83aff6fcdb2e",
   "metadata": {},
   "source": [
    "# 1. numpy.dot() function\n",
    "    \n",
    "The numpy.dot() function is a part of NumPy's linear algebra module that is used to perform matrix multiplication between two arrays. It takes two arrays as input and returns their dot product.\n",
    "\n",
    "The dot product of two arrays is calculated by multiplying the corresponding elements of the arrays and then summing them up. The dot product of two arrays \n",
    "𝐴 and \n",
    "𝐵\n",
    " can be denoted by \n",
    "𝐴⋅𝐵 or  𝐴∗𝐵.\n",
    "\n",
    "**The numpy.dot()** function can be used with arrays of different shapes, as long as the dimensions of the arrays are compatible for matrix multiplication. Specifically, the number of columns in the first array must be equal to the number of rows in the second array. If the shapes of the arrays are not compatible for matrix multiplication, the function will raise a ValueError.\n",
    "\n",
    "**Example 01:**"
   ]
  },
  {
   "cell_type": "code",
   "execution_count": 33,
   "id": "f022be4f-b48c-4447-91e2-85cb6f6006cf",
   "metadata": {},
   "outputs": [
    {
     "name": "stdout",
     "output_type": "stream",
     "text": [
      "original Array\n",
      "[100 200]\n",
      "[23 12]\n",
      "Dot product:  4700\n"
     ]
    }
   ],
   "source": [
    "import numpy as np\n",
    "a = np.array([100, 200])\n",
    "b = np.array([23, 12]) \n",
    "print (\"original Array\")\n",
    "print(a)\n",
    "print(b)\n",
    "dot = np.dot(a, b)\n",
    "print(\"Dot product: \",dot)\n"
   ]
  },
  {
   "cell_type": "markdown",
   "id": "00ffbd27-b519-4462-9216-406aaa99a5ba",
   "metadata": {},
   "source": [
    "**Explanation:**\n",
    "\n",
    "In this example, two 1D arrays a and b are defined.\n",
    "    \n",
    "The numpy.dot() function computes the dot product, resulting in a scalar value.\n",
    "\n",
    "    Dot product: 100 * 23 + 200 * 12 = 4600"
   ]
  },
  {
   "cell_type": "markdown",
   "id": "70bb117f-08fb-4bbc-a1a0-356b0642a675",
   "metadata": {},
   "source": [
    "**Example 02**"
   ]
  },
  {
   "cell_type": "code",
   "execution_count": 13,
   "id": "58af323c-9557-4b09-a0f9-7c934eae90f9",
   "metadata": {},
   "outputs": [
    {
     "name": "stdout",
     "output_type": "stream",
     "text": [
      "Values of dot product: [[3400 6200]\n",
      " [ 374  712]]\n"
     ]
    }
   ],
   "source": [
    "import numpy as np\n",
    "a = np.array([[100, 200], [23, 12]]) \n",
    "b = np.array([[10, 20], [12, 21]])  \n",
    "\n",
    "dot = np.dot(a, b)  \n",
    "print(\"Values of dot product:\", dot)  \n"
   ]
  },
  {
   "cell_type": "markdown",
   "id": "ecb70f88-d52a-4f5f-8064-495f4b05804d",
   "metadata": {},
   "source": [
    "Explanation:\n",
    "\n",
    "This code defines two 2D NumPy arrays a and b, each with 2 rows and 2 columns.\n",
    "The numpy.dot() function performs matrix multiplication between a and b.\n",
    "The values of the resulting array dot are calculated as follows:\n",
    "\n",
    "dot[0,0] = (100 * 10) + (200 * 12) = 3400\n",
    "\n",
    "dot[0,1] = (100 * 20) + (200 * 21) = 6200\n",
    "\n",
    "dot[1,0] = (23 * 10) + (12 * 12) = 374\n",
    "\n",
    "dot[1,1] = (23 * 20) + (12 * 21) = 712"
   ]
  },
  {
   "cell_type": "markdown",
   "id": "5b44f211-9384-4d6c-b090-36c4bd351cc9",
   "metadata": {},
   "source": [
    "# 2. numpy.vdot() function\n",
    "    \n",
    "**The numpy.vdot()** function computes the dot product of two 1D arrays. It returns the dot product of the two input arrays, which is computed as the sum of the element-wise product of the two arrays. This function is specifically designed to work with 1D arrays.\n",
    "\n",
    "\n",
    "Example 01:"
   ]
  },
  {
   "cell_type": "code",
   "execution_count": 37,
   "id": "ef9753c3-efd4-4b42-9a13-e205ad7bf53b",
   "metadata": {},
   "outputs": [
    {
     "name": "stdout",
     "output_type": "stream",
     "text": [
      "Values of vector dot product: 5528\n"
     ]
    }
   ],
   "source": [
    "import numpy as np  \n",
    "a = np.array([[100, 200], [23, 12]])  \n",
    "b = np.array([[10, 20], [12, 21]]) \n",
    "\n",
    "vdot = np.vdot(a, b)  \n",
    "print(\"Values of vector dot product:\", vdot)\n"
   ]
  },
  {
   "cell_type": "markdown",
   "id": "5b3cddcb-2da1-4e8c-920f-c36d9d2d9f3d",
   "metadata": {},
   "source": [
    "**Explanation:**\n",
    "\n",
    "Even though a and b are 2D arrays, numpy.vdot() treats them as flattened vectors.\n",
    "\n",
    "Flattened a = [100, 200, 23, 12], b = [10, 20, 12, 21]\n",
    "\n",
    "Vector dot product: 100 * 10 + 200 * 20 + 23 * 12 + 12 * 21 = 5528"
   ]
  },
  {
   "cell_type": "code",
   "execution_count": 43,
   "id": "5a990e89-f81d-4870-8f02-caa3c276f257",
   "metadata": {},
   "outputs": [
    {
     "name": "stdout",
     "output_type": "stream",
     "text": [
      "(70-8j)\n"
     ]
    }
   ],
   "source": [
    "import numpy as np\n",
    "\n",
    "a = np.array([1 + 2j, 3 + 4j])\n",
    "b = np.array([5 + 6j, 7 + 8j])\n",
    "\n",
    "vdot = np.vdot(a, b)\n",
    "print(vdot)\n"
   ]
  },
  {
   "cell_type": "markdown",
   "id": "18ef4cc9-5fb5-474c-9967-d6df036ce424",
   "metadata": {},
   "source": [
    "**Explanation:**\n",
    "\n",
    "The function computes the vector dot product of complex numbers.\n",
    "\n",
    "Conjugate of a: [1 - 2j, 3 - 4j]\n",
    "\n",
    "Vector dot product: (1 - 2j) * (5 + 6j) + (3 - 4j) * (7 + 8j) = 70 - 8j"
   ]
  },
  {
   "cell_type": "markdown",
   "id": "21eb144c-3ac8-4fe6-9e09-af71d7d4fdd9",
   "metadata": {},
   "source": [
    "# 3. numpy.inner() function:\n",
    "\n",
    "The **numpy.inner()** function calculates the inner product of two arrays. For 1D arrays, it computes the dot product. For higher-dimensional arrays, it sums the product over the last dimension of the first array and the second-to-last dimension of the second array.\n",
    "\n",
    "\n",
    "Example 01:"
   ]
  },
  {
   "cell_type": "code",
   "execution_count": 47,
   "id": "a7a59277-739a-4a6f-9d6a-4aff2256d242",
   "metadata": {},
   "outputs": [
    {
     "name": "stdout",
     "output_type": "stream",
     "text": [
      "130\n"
     ]
    }
   ],
   "source": [
    "import numpy as np\n",
    "a = np.array([1, 2, 3, 4, 5, 6])  \n",
    "b = np.array([23, 23, 12, 2, 1, 2])  \n",
    "\n",
    "inner = np.inner(a, b)  \n",
    "print(inner) \n"
   ]
  },
  {
   "cell_type": "markdown",
   "id": "ded07b41-31ae-4055-a19d-72eca6f4659a",
   "metadata": {},
   "source": [
    "**Explanation:**\n",
    "\n",
    "The numpy.inner() function sums the product of corresponding elements.\n",
    "\n",
    "    Inner product: 1*23 + 2*23 + 3*12 + 4*2 + 5*1 + 6*2 = 130"
   ]
  },
  {
   "cell_type": "markdown",
   "id": "6144b84b-74a0-4699-acfc-4031fc74f53d",
   "metadata": {},
   "source": [
    "**Example 02**"
   ]
  },
  {
   "cell_type": "code",
   "execution_count": 54,
   "id": "88af75ea-1643-4038-8719-2984b73a928e",
   "metadata": {},
   "outputs": [
    {
     "name": "stdout",
     "output_type": "stream",
     "text": [
      "Values of inner product: [[105  10]\n",
      " [279  25]]\n"
     ]
    }
   ],
   "source": [
    "import numpy as np\n",
    "a = np.array([[1, 2, 3], [4, 5, 6]])  \n",
    "b = np.array([[23, 23, 12], [2, 1, 2]])  \n",
    "\n",
    "inner = np.inner(a, b)  \n",
    "print(\"Values of inner product:\", inner)\n"
   ]
  },
  {
   "cell_type": "markdown",
   "id": "bf0bda0d-6879-4360-95dc-7392655fb0dc",
   "metadata": {},
   "source": [
    "**Explanation:**\n",
    "\n",
    "The inner product is calculated for each row of a and each row of b.\n",
    "    \n",
    "Resulting array inner:\n",
    "\n",
    "inner[0,0] = (1*23) + (2*23) + (3*12) = 105\n",
    "\n",
    "inner[0,1] = (1*2) + (2*1) + (3*2) = 10\n",
    "\n",
    "inner[1,0] = (4*23) + (5*23) + (6*12) = 279\n",
    "\n",
    "inner[1,1] = (4*2) + (5*1) + (6*2) = 25"
   ]
  },
  {
   "cell_type": "markdown",
   "id": "dbff5033-53b4-465f-addb-2ff292b3fed7",
   "metadata": {},
   "source": [
    "# 4. numpy.matmul() function:\n",
    "\n",
    "The **numpy.matmul()** function performs matrix multiplication. It multiplies two arrays using matrix multiplication rules, where the number of columns in the first array must match the number of rows in the second array.\n",
    "\n",
    "\n",
    "    \n",
    "Example 01: Matrix product"
   ]
  },
  {
   "cell_type": "code",
   "execution_count": 61,
   "id": "31f4d649-68f1-4822-aac4-32ae155d51a6",
   "metadata": {},
   "outputs": [
    {
     "name": "stdout",
     "output_type": "stream",
     "text": [
      "Matrix multiplication: [[3400 6200]\n",
      " [ 374  712]]\n"
     ]
    }
   ],
   "source": [
    "import numpy as np\n",
    "a = np.array([[100, 200], [23, 12]]) \n",
    "b = np.array([[10, 20], [12, 21]])  \n",
    "\n",
    "mul = np.matmul(a, b)  \n",
    "print(\"Matrix multiplication:\", mul) \n"
   ]
  },
  {
   "cell_type": "markdown",
   "id": "d56c4c8c-aa5c-4c07-8907-77c2809a70e2",
   "metadata": {},
   "source": [
    "**Explanation:**\n",
    "\n",
    "Matrix multiplication using numpy.matmul().\n",
    "\n",
    "Calculated similarly as with numpy.dot()."
   ]
  },
  {
   "cell_type": "markdown",
   "id": "2681af4e-9fe1-44cf-8130-57580c5af82e",
   "metadata": {},
   "source": [
    "**Example 02: Element-wise matrix multiplication**"
   ]
  },
  {
   "cell_type": "code",
   "execution_count": 70,
   "id": "418c35a9-985f-4586-8802-bb6332219115",
   "metadata": {},
   "outputs": [
    {
     "name": "stdout",
     "output_type": "stream",
     "text": [
      "Element-wise multiplication: [[ 9 16 21]\n",
      " [24 25 24]\n",
      " [21 16  9]]\n"
     ]
    }
   ],
   "source": [
    "import numpy as np  \n",
    "a = np.array([[1, 2, 3], [4, 5, 6], [7, 8, 9]])  \n",
    "b = np.array([[9, 8, 7], [6, 5, 4], [3, 2, 1]]) \n",
    "\n",
    "mul = np.multiply(a, b)  \n",
    "print(\"Element-wise multiplication:\", mul)  \n"
   ]
  },
  {
   "cell_type": "markdown",
   "id": "5095cd11-11e0-4f4b-8526-7c13e2f92b59",
   "metadata": {},
   "source": [
    "**Explanation:**\n",
    "\n",
    "Element-wise multiplication: Each element of a is multiplied by the corresponding element of b.\n",
    "\n",
    "Resulting array mul:\n",
    "\n",
    "mul[0,0] = 1*9, mul[0,1] = 2*8, etc."
   ]
  },
  {
   "cell_type": "markdown",
   "id": "2aa3b792-9d3d-40cb-be24-a33c611a3427",
   "metadata": {},
   "source": [
    "# 5. numpy.linalg.det() function\n",
    "    \n",
    "The numpy.linalg.det() function calculates the determinant of a matrix. The determinant is a scalar value that is a function of the entries of a square matrix. It can be used to determine if a matrix has an inverse and is used in various matrix-related calculations.\n",
    "\n",
    "\n",
    "    \n",
    "**Example 01:**"
   ]
  },
  {
   "cell_type": "code",
   "execution_count": 75,
   "id": "ec216679-2827-4b44-86be-0ca14d0e9ad2",
   "metadata": {},
   "outputs": [
    {
     "name": "stdout",
     "output_type": "stream",
     "text": [
      "3.0000000000000004\n"
     ]
    }
   ],
   "source": [
    "import numpy as np  \n",
    "a = np.array([[3, 6], [1, 3]]) \n",
    "\n",
    "det = np.linalg.det(a)  \n",
    "print(det) \n"
   ]
  },
  {
   "cell_type": "markdown",
   "id": "dd9495d5-4f11-41a0-aa37-ac85303f8eac",
   "metadata": {},
   "source": [
    "**Explanation:**\n",
    "\n",
    "This code calculates the determinant of a 2x2 matrix a.\n",
    "\n",
    "Determinant formula: det(a) = (3*3) - (6*1) = 3"
   ]
  },
  {
   "cell_type": "code",
   "execution_count": 79,
   "id": "7a4b8294-2af1-44e8-897c-81b78e6c2b08",
   "metadata": {},
   "outputs": [
    {
     "name": "stdout",
     "output_type": "stream",
     "text": [
      "1300.0\n"
     ]
    }
   ],
   "source": [
    "import numpy as np  \n",
    "a = np.array([[100, 20], [10, 15]]) \n",
    "\n",
    "det = np.linalg.det(a)  \n",
    "print(det)  \n"
   ]
  },
  {
   "cell_type": "markdown",
   "id": "357dc890-0deb-4a8b-a664-5c79ec87fff7",
   "metadata": {},
   "source": [
    "# 6. numpy.linalg.solve() function\n",
    "    \n",
    "The **numpy.linalg.solve()** function solves a system of linear equations of the form Ax = B, where A is a square matrix and B is a matrix with the same number of rows as A. The function returns the solution x.\n",
    "\n",
    "\n",
    "\n",
    "\n",
    "**Example 01:**"
   ]
  },
  {
   "cell_type": "code",
   "execution_count": 83,
   "id": "8b96c43c-5ac2-4e72-93c3-ffe630250a13",
   "metadata": {},
   "outputs": [
    {
     "name": "stdout",
     "output_type": "stream",
     "text": [
      "[[ 4.]\n",
      " [-5.]]\n"
     ]
    }
   ],
   "source": [
    "import numpy as np  \n",
    "a = np.array([[5, 3], [3, 2]])  \n",
    "b = np.array([[5], [2]])  \n",
    "\n",
    "sol = np.linalg.solve(a, b)  \n",
    "print(sol)  \n"
   ]
  },
  {
   "cell_type": "markdown",
   "id": "c78bb1d8-662e-4427-955c-2290cda7870c",
   "metadata": {},
   "source": [
    "**Explanation:**\n",
    "\n",
    "This code solves the system of equations:\n",
    "\n",
    "5x+3y=5\n",
    "and\n",
    "3x+2y=2\n",
    "\n",
    "Result: x = 4, y = -5"
   ]
  },
  {
   "cell_type": "markdown",
   "id": "614f850e-c524-45f8-943d-08ff2f9c56a2",
   "metadata": {},
   "source": [
    "# 7. numpy.linalg.inv() function\n",
    "    \n",
    "The **numpy.linalg.inv()** function calculates the multiplicative inverse of a matrix. If A is a square matrix, then the inverse of A is a matrix B such that AB = BA = I, where I is the identity matrix.\n",
    "\n",
    "\n",
    "\n",
    "**Example:**\n"
   ]
  },
  {
   "cell_type": "code",
   "execution_count": 97,
   "id": "ab14b8a9-bc5e-4e1b-9f8c-afbbcd5f6098",
   "metadata": {},
   "outputs": [
    {
     "name": "stdout",
     "output_type": "stream",
     "text": [
      "[[-2.   1. ]\n",
      " [ 1.5 -0.5]]\n"
     ]
    }
   ],
   "source": [
    "import numpy as np  \n",
    "a = np.array([[1, 2], [3, 4]])  \n",
    "\n",
    "inv = np.linalg.inv(a)  \n",
    "print(inv)  \n"
   ]
  },
  {
   "cell_type": "markdown",
   "id": "2d8846de-c5bb-4ff9-af39-dfe56727bfc3",
   "metadata": {},
   "source": [
    "**Explanation:**\n",
    "\n",
    "This code calculates the inverse of the 2x2 matrix a.\n",
    "\n",
    "Resulting matrix inv:\n",
    "\n",
    "Inverse of a: [[ -2, 1], [ 1.5, -0.5 ]]"
   ]
  },
  {
   "cell_type": "code",
   "execution_count": null,
   "id": "35515ee3-00a9-47b1-9d2f-0dcf096d5203",
   "metadata": {},
   "outputs": [],
   "source": []
  },
  {
   "cell_type": "markdown",
   "id": "b8b7a106-c8d3-4dff-b193-63fbf3f7faaa",
   "metadata": {},
   "source": [
    "These examples and explanations provide an overview of various linear algebra functions available in NumPy, allowing you to perform a wide range of mathematical operations efficiently and effectively.\n"
   ]
  },
  {
   "cell_type": "code",
   "execution_count": null,
   "id": "8beef8f6-52e0-4ef0-806e-e0e6bded991c",
   "metadata": {},
   "outputs": [],
   "source": []
  }
 ],
 "metadata": {
  "kernelspec": {
   "display_name": "Python 3 (ipykernel)",
   "language": "python",
   "name": "python3"
  },
  "language_info": {
   "codemirror_mode": {
    "name": "ipython",
    "version": 3
   },
   "file_extension": ".py",
   "mimetype": "text/x-python",
   "name": "python",
   "nbconvert_exporter": "python",
   "pygments_lexer": "ipython3",
   "version": "3.12.4"
  }
 },
 "nbformat": 4,
 "nbformat_minor": 5
}
