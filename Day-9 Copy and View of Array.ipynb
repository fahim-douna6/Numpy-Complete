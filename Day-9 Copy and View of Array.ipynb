{
 "cells": [
  {
   "cell_type": "markdown",
   "id": "401dd169-cbfa-4800-be80-2c2c6dc40336",
   "metadata": {},
   "source": [
    "# NumPy Array Copy and  View"
   ]
  },
  {
   "cell_type": "markdown",
   "id": "da4b8370-6bad-44b0-91d1-45dfc7cc41d2",
   "metadata": {},
   "source": [
    "NumPy is a powerful library in Python used for numerical computing. It provides a robust way to handle arrays and matrices. When working with NumPy arrays, it's crucial to understand the difference between copying an array and creating a view of an array. This distinction affects how changes to one array will affect another.\n",
    "\n",
    "**Copy:** A new, separate array is created. Changes made to the copy do not affect the original array and vice versa.\n",
    "\n",
    "**View:** A new array object is created, but it still references the original data. Changes made to the view will affect the original array and vice versa.\n"
   ]
  },
  {
   "cell_type": "code",
   "execution_count": null,
   "id": "9471075f-2695-4d9a-8c43-1ca0d2c5a982",
   "metadata": {},
   "outputs": [],
   "source": []
  },
  {
   "cell_type": "markdown",
   "id": "972e4466-2477-4fa7-b9e1-414b56d2aab8",
   "metadata": {},
   "source": [
    "**1. NumPy copy() Function**\n",
    "\n",
    "The copy() function in NumPy creates a deep copy of an array. This means that a completely new array is created with its own data. Any changes made to the new array will not impact the original array."
   ]
  },
  {
   "cell_type": "markdown",
   "id": "2e45fd8e-ef9a-430b-ab99-db8dff662310",
   "metadata": {},
   "source": [
    "**Creating a copy of a one-dimensional array:**"
   ]
  },
  {
   "cell_type": "code",
   "execution_count": 12,
   "id": "ab83996c-d4bb-4cd3-bf1c-0b949c03b81a",
   "metadata": {},
   "outputs": [
    {
     "name": "stdout",
     "output_type": "stream",
     "text": [
      "Original array: [1 2 3]\n",
      "Copy array: [1 2 3]\n"
     ]
    }
   ],
   "source": [
    "import numpy as np\n",
    "\n",
    "a = np.array([1, 2, 3])\n",
    "b = a.copy()\n",
    "\n",
    "print(\"Original array:\", a)\n",
    "print(\"Copy array:\", b)\n"
   ]
  },
  {
   "cell_type": "markdown",
   "id": "79b5706e-76f2-4f4e-b446-08c7bb2bbfcd",
   "metadata": {},
   "source": [
    "**Creating a copy of a two-dimensional array:**\n"
   ]
  },
  {
   "cell_type": "code",
   "execution_count": 17,
   "id": "e6fa4a66-6129-4c07-be3e-53aee26af5f7",
   "metadata": {},
   "outputs": [
    {
     "name": "stdout",
     "output_type": "stream",
     "text": [
      "Original array: [[1 2]\n",
      " [3 4]]\n",
      "Copy array: [[1 2]\n",
      " [3 4]]\n"
     ]
    }
   ],
   "source": [
    "import numpy as np\n",
    "\n",
    "a = np.array([[1, 2], [3, 4]])\n",
    "b = a.copy()\n",
    "\n",
    "print(\"Original array:\", a)\n",
    "print(\"Copy array:\", b)\n"
   ]
  },
  {
   "cell_type": "markdown",
   "id": "225398f4-fbfa-4e03-9af4-7cf85ca5111f",
   "metadata": {},
   "source": [
    "**Creating a copy of a structured array:**\n"
   ]
  },
  {
   "cell_type": "code",
   "execution_count": 22,
   "id": "604e8c7e-2c4a-4e83-9ce9-d0d4157f6e02",
   "metadata": {},
   "outputs": [
    {
     "name": "stdout",
     "output_type": "stream",
     "text": [
      "Original array: [(1, 'a') (2, 'b')]\n",
      "Copy array: [(1, 'a') (2, 'b')]\n"
     ]
    }
   ],
   "source": [
    "import numpy as np\n",
    "\n",
    "a = np.array([(1, \"a\"), (2, \"b\")], dtype=[(\"x\", int), (\"y\", \"U1\")])\n",
    "b = a.copy()\n",
    "\n",
    "print(\"Original array:\", a)\n",
    "print(\"Copy array:\", b)\n"
   ]
  },
  {
   "cell_type": "markdown",
   "id": "f3386c28-9f8b-4e4f-b53e-3a5c3e33eb02",
   "metadata": {},
   "source": [
    "**Creating a copy of a slice of an array:**\n",
    "\n"
   ]
  },
  {
   "cell_type": "code",
   "execution_count": 40,
   "id": "40e9911b-9016-4ac6-8471-47bf2f35d4ed",
   "metadata": {},
   "outputs": [
    {
     "name": "stdout",
     "output_type": "stream",
     "text": [
      "Original array: [[1 2]\n",
      " [3 4]]\n",
      "Copy array: [2 4]\n"
     ]
    }
   ],
   "source": [
    "import numpy as np\n",
    "\n",
    "a = np.array([[1, 2], [3, 4]])\n",
    "b = a[:, 1].copy()\n",
    "\n",
    "print(\"Original array:\", a)\n",
    "print(\"Copy array:\", b)\n"
   ]
  },
  {
   "cell_type": "markdown",
   "id": "e5fb903a-cc01-4b80-a6e8-c3f08ccd22aa",
   "metadata": {},
   "source": [
    "**Creating a copy of an array with a different data type:**\n",
    "\n"
   ]
  },
  {
   "cell_type": "code",
   "execution_count": 45,
   "id": "f3a9c0b0-4c41-4c08-be05-180afed51345",
   "metadata": {},
   "outputs": [
    {
     "name": "stdout",
     "output_type": "stream",
     "text": [
      "Original array: [1 2 3]\n",
      "Copy as float array: [1. 2. 3.]\n",
      "Copy as complex array: [1.+0.j 2.+0.j 3.+0.j]\n"
     ]
    }
   ],
   "source": [
    "import numpy as np\n",
    "\n",
    "a = np.array([1, 2, 3])\n",
    "b = a.astype(float).copy()\n",
    "\n",
    "print(\"Original array:\", a)\n",
    "print(\"Copy as float array:\", b)\n",
    "\n",
    "c = a.astype(complex).copy()\n",
    "print(\"Copy as complex array:\", c)\n"
   ]
  },
  {
   "cell_type": "markdown",
   "id": "95df5186-17bb-450b-9046-41128f596f3b",
   "metadata": {},
   "source": [
    "**Make a copy, change the original array, and display both arrays:**\n",
    "\n"
   ]
  },
  {
   "cell_type": "code",
   "execution_count": 53,
   "id": "20770d93-2e17-432f-b134-78c409c4565d",
   "metadata": {},
   "outputs": [
    {
     "name": "stdout",
     "output_type": "stream",
     "text": [
      "Original array: [42  2  3  4  5]\n",
      "Copy array: [1 2 3 4 5]\n"
     ]
    }
   ],
   "source": [
    "import numpy as np\n",
    "\n",
    "a = np.array([1, 2, 3, 4, 5])\n",
    "b = a.copy()\n",
    "a[0] = 42\n",
    "\n",
    "print(\"Original array:\", a)\n",
    "print(\"Copy array:\", b)\n"
   ]
  },
  {
   "cell_type": "markdown",
   "id": "f605c693-57a4-48f3-889e-f7f42d05020f",
   "metadata": {},
   "source": [
    "**Make a copy, change the copy array, and display both arrays:**\n",
    "\n"
   ]
  },
  {
   "cell_type": "code",
   "execution_count": 59,
   "id": "2ee20613-3064-4a37-8694-d8e3a7acbbb2",
   "metadata": {},
   "outputs": [
    {
     "name": "stdout",
     "output_type": "stream",
     "text": [
      "Original array: [1 2 3 4 5]\n",
      "Copy array: [42  2  3  4  5]\n"
     ]
    }
   ],
   "source": [
    "import numpy as np\n",
    "\n",
    "a = np.array([1, 2, 3, 4, 5])\n",
    "b = a.copy()\n",
    "b[0] = 42\n",
    "\n",
    "print(\"Original array:\", a)\n",
    "print(\"Copy array:\", b)\n"
   ]
  },
  {
   "cell_type": "code",
   "execution_count": null,
   "id": "4d1e2b5a-2860-4018-8081-e8377c7a3964",
   "metadata": {},
   "outputs": [],
   "source": []
  },
  {
   "cell_type": "markdown",
   "id": "54b7b599-3a0a-4b7e-b581-fb0072770733",
   "metadata": {},
   "source": [
    "# 2. NumPy view() Function\n",
    "The view() function in NumPy creates a new array object that shares the same data as the original array. This is known as a shallow copy. The data is not copied; only the structure or the way the data is accessed is different. Therefore, changes made to the view will reflect in the original array, and vice versa.\n",
    "\n",
    "    \n",
    "Examples of Using view()\n",
    "\n",
    "**Creating a view of a one-dimensional array:**"
   ]
  },
  {
   "cell_type": "code",
   "execution_count": 62,
   "id": "64848bc1-7626-4fa7-b194-ec23f6c63a7a",
   "metadata": {},
   "outputs": [
    {
     "name": "stdout",
     "output_type": "stream",
     "text": [
      "Original array: [1 2 3]\n",
      "View array: [1 2 3]\n"
     ]
    }
   ],
   "source": [
    "import numpy as np\n",
    "\n",
    "a = np.array([1, 2, 3])\n",
    "b = a.view()\n",
    "\n",
    "print(\"Original array:\", a)\n",
    "print(\"View array:\", b)\n"
   ]
  },
  {
   "cell_type": "markdown",
   "id": "da70b752-6337-438b-90b8-7295a9d1003e",
   "metadata": {},
   "source": [
    "**Creating a view of a slice of an array:**"
   ]
  },
  {
   "cell_type": "code",
   "execution_count": 71,
   "id": "936f0dfd-5227-4a36-8bac-e2454e75a53f",
   "metadata": {},
   "outputs": [
    {
     "name": "stdout",
     "output_type": "stream",
     "text": [
      "Original array: [[1 2]\n",
      " [3 4]]\n",
      "View array: [2 4]\n"
     ]
    }
   ],
   "source": [
    "import numpy as np\n",
    "\n",
    "a = np.array([[1, 2], [3, 4]])\n",
    "b = a[:, 1].view()\n",
    "\n",
    "print(\"Original array:\", a)\n",
    "print(\"View array:\", b)\n"
   ]
  },
  {
   "cell_type": "markdown",
   "id": "7824d3a9-e18f-4b27-be1a-21b3fcbd1cc5",
   "metadata": {},
   "source": [
    "**Explanation:**\n",
    "\n",
    "In this example, the array a is a 2D array. We take a slice a[:, 1], which extracts the second column of all rows. The view() method creates a shallow copy of this slice. Since it's a view, changes to b will reflect in a.\n",
    "\n"
   ]
  },
  {
   "cell_type": "markdown",
   "id": "8da8b216-e964-406c-b85e-e7b41803fbbd",
   "metadata": {},
   "source": [
    "**Make a view, change the view, and display both arrays:**"
   ]
  },
  {
   "cell_type": "code",
   "execution_count": 75,
   "id": "b26d2a28-d401-409e-ab41-42cf0b5a8fcf",
   "metadata": {},
   "outputs": [
    {
     "name": "stdout",
     "output_type": "stream",
     "text": [
      "Original array: [31  2  3  4  5]\n",
      "View array: [31  2  3  4  5]\n"
     ]
    }
   ],
   "source": [
    "import numpy as np\n",
    "\n",
    "a = np.array([1, 2, 3, 4, 5])\n",
    "b = a.view()\n",
    "b[0] = 31\n",
    "\n",
    "print(\"Original array:\", a)\n",
    "print(\"View array:\", b)\n"
   ]
  },
  {
   "cell_type": "markdown",
   "id": "e1f42da5-823c-4a9b-9e05-d8b51ed20ef0",
   "metadata": {},
   "source": [
    "**Explanation:**\n",
    "\n",
    "  The change to b[0] is reflected in a[0], demonstrating that b is a view of a. This confirms that b does not have its own separate data but instead shares data with a.\n",
    "\n"
   ]
  },
  {
   "cell_type": "markdown",
   "id": "255fe8dc-182e-4602-99ea-31e146bcb59e",
   "metadata": {},
   "source": [
    "**Make a view, change the original array, and display both arrays:**"
   ]
  },
  {
   "cell_type": "code",
   "execution_count": 83,
   "id": "39456990-7efd-4f02-a6ee-abbed031e699",
   "metadata": {},
   "outputs": [
    {
     "name": "stdout",
     "output_type": "stream",
     "text": [
      "Original array: [31  2  3  4  5]\n",
      "View array: [31  2  3  4  5]\n"
     ]
    }
   ],
   "source": [
    "import numpy as np\n",
    "\n",
    "a = np.array([1, 2, 3, 4, 5])\n",
    "b = a.view()\n",
    "a[0] = 31\n",
    "\n",
    "print(\"Original array:\", a)\n",
    "print(\"View array:\", b)\n"
   ]
  },
  {
   "cell_type": "markdown",
   "id": "6c3a65d3-2e68-4c3c-b989-961cd69e601b",
   "metadata": {},
   "source": [
    "**Explanation:**\n",
    "\n",
    "  Changing a[0] also changes b[0] because b is just a view of a. Both arrays are referencing the same data.\n",
    "\n"
   ]
  },
  {
   "cell_type": "markdown",
   "id": "bbe3e2c6-dc55-4da9-8dbc-b954a391d611",
   "metadata": {},
   "source": [
    "**Checking Base Attribute**\n",
    "\n",
    "The base attribute helps to determine if an array is a copy or a view. If base is None, the array owns its own data. If base is another array, then it is a view."
   ]
  },
  {
   "cell_type": "code",
   "execution_count": 90,
   "id": "4106c8ab-a988-412c-a1ae-6bddfb9acc4c",
   "metadata": {},
   "outputs": [
    {
     "name": "stdout",
     "output_type": "stream",
     "text": [
      "None\n",
      "[1 2 3 4 5]\n"
     ]
    }
   ],
   "source": [
    "import numpy as np\n",
    "\n",
    "arr = np.array([1, 2, 3, 4, 5])\n",
    "x = arr.copy()\n",
    "y = arr.view()\n",
    "\n",
    "print(x.base)  # None, meaning x is a deep copy\n",
    "print(y.base)  # Points to arr, meaning y is a view\n"
   ]
  },
  {
   "cell_type": "code",
   "execution_count": 94,
   "id": "a92fc5b7-92cd-408b-b1c3-006ea4ac4128",
   "metadata": {},
   "outputs": [
    {
     "name": "stdout",
     "output_type": "stream",
     "text": [
      "None\n",
      "[1 2 3 4 5]\n"
     ]
    }
   ],
   "source": [
    "import numpy as np\n",
    "\n",
    "arr = np.array([1, 2, 3, 4, 5])\n",
    "x = arr.copy()\n",
    "y = arr.view()\n",
    "\n",
    "print(x.base)  # None, meaning x is a deep copy\n",
    "print(y.base)  # Points to arr, meaning y is a view\n"
   ]
  },
  {
   "cell_type": "markdown",
   "id": "1ef522c0-632d-4ec3-bad0-81953a31a9d6",
   "metadata": {},
   "source": [
    "**Conclusion**\n",
    "  \n",
    "Understanding the difference between copies and views in NumPy is crucial for efficient memory management and preventing unintended side effects in your code. Use copy() when you need a completely independent array and view() when you need a different perspective on the same data."
   ]
  },
  {
   "cell_type": "code",
   "execution_count": null,
   "id": "cedce06c-8378-473f-afcb-91f13a62ea00",
   "metadata": {},
   "outputs": [],
   "source": []
  }
 ],
 "metadata": {
  "kernelspec": {
   "display_name": "Python 3 (ipykernel)",
   "language": "python",
   "name": "python3"
  },
  "language_info": {
   "codemirror_mode": {
    "name": "ipython",
    "version": 3
   },
   "file_extension": ".py",
   "mimetype": "text/x-python",
   "name": "python",
   "nbconvert_exporter": "python",
   "pygments_lexer": "ipython3",
   "version": "3.12.4"
  }
 },
 "nbformat": 4,
 "nbformat_minor": 5
}
