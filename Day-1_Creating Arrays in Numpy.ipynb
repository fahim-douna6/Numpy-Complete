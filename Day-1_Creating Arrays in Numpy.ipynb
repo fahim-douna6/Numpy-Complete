{
 "cells": [
  {
   "cell_type": "markdown",
   "id": "b5aadc45-f70a-4c0b-898d-d919618c959f",
   "metadata": {},
   "source": [
    "# Day 1:  Creating Arrays in NumPy\n",
    "**NumPy Library**\n",
    "\n",
    "This code creates a NumPy array called a with the values 0.0, 1.5, and 2.0, and with the data type np.float64, which specifies that the array should contain 64-bit floating-point numbers.\r\n",
    "\r\n",
    "The first line imports the NumPy library and assigns the name np to it, which is a common convention.\r\n",
    "\r\n",
    "The second line creates a NumPy array called a with the values 0.0, 1.5, and 2.0, and with the data type np.float64.\r\n",
    "\r\n",
    "The third line prints the contents of the a; array to the console."
   ]
  },
  {
   "cell_type": "code",
   "execution_count": 2,
   "id": "19e98799-a9bd-4659-b299-82a8d7010e6e",
   "metadata": {},
   "outputs": [],
   "source": [
    "import numpy as np\n",
    "\n",
    "arr = np.array([0, 1, 2, 3, 4])\n"
   ]
  },
  {
   "cell_type": "markdown",
   "id": "c5740a33-d971-4cc5-9027-a13a3faa9601",
   "metadata": {},
   "source": [
    "**Example 1: Creating a One-Dimensional Array**"
   ]
  },
  {
   "cell_type": "code",
   "execution_count": 4,
   "id": "08a7db85-2b0d-452d-8f55-be3e64a05f96",
   "metadata": {},
   "outputs": [
    {
     "name": "stdout",
     "output_type": "stream",
     "text": [
      "Array: [0 1 2 3 4]\n",
      "Dimensions: 1\n",
      "Shape: (5,)\n"
     ]
    }
   ],
   "source": [
    "import numpy as np\n",
    "\n",
    "a = np.array([0, 1, 2, 3, 4])\n",
    "print(\"Array:\", a)\n",
    "print(\"Dimensions:\", np.ndim(a))\n",
    "print(\"Shape:\", np.shape(a))\n"
   ]
  },
  {
   "cell_type": "markdown",
   "id": "1cc9876d-4bfa-453a-ae63-7b1e274caa3d",
   "metadata": {},
   "source": [
    "**Creating a Two-Dimensional Array**\n",
    "You can create a two-dimensional array by passing a list of lists to the numpy.array() function. For example, to create a 2x3 array of integers, you would write:"
   ]
  },
  {
   "cell_type": "code",
   "execution_count": 6,
   "id": "4e412b29-6f35-4b58-a10b-d905ee2fe7b1",
   "metadata": {},
   "outputs": [],
   "source": [
    "import numpy as np\n",
    "\n",
    "arr = np.array([[0, 1, 2], [3, 4, 5]])\n"
   ]
  },
  {
   "cell_type": "markdown",
   "id": "ab20ae3c-2283-453c-95f6-348826ba5e8f",
   "metadata": {},
   "source": [
    "**Example 2: Creating a Two-Dimensional Array**"
   ]
  },
  {
   "cell_type": "code",
   "execution_count": 8,
   "id": "509825af-42a6-4963-b851-69f0792b57d9",
   "metadata": {},
   "outputs": [
    {
     "name": "stdout",
     "output_type": "stream",
     "text": [
      "Array: [[0 1 2]\n",
      " [3 4 5]]\n",
      "Dimensions: 2\n",
      "Shape: (2, 3)\n"
     ]
    }
   ],
   "source": [
    "import numpy as np\n",
    "\n",
    "a = np.array([[0, 1, 2], [3, 4, 5]])\n",
    "print(\"Array:\", a)\n",
    "print(\"Dimensions:\", np.ndim(a))\n",
    "print(\"Shape:\", np.shape(a))\n"
   ]
  },
  {
   "cell_type": "markdown",
   "id": "2afa2a17-efe2-4f2b-b5b1-90a4c7374d38",
   "metadata": {},
   "source": [
    "**Creating Higher-Dimensional Arrays**\n",
    "\n",
    "Higher-dimensional arrays are arrays with more than one dimension, used to represent complex data structures like images, audio signals, and scientific data. These can be thought of as lists of lists, where each element in the list can itself be a list or an array.\n",
    "\n",
    "For example:\n",
    "\n",
    "A two-dimensional array can be visualized as a matrix (rows and columns).\n",
    "A three-dimensional array can be visualized as a cube, with layers stacked on top of each other.\n",
    "You can create higher-dimensional arrays using the numpy.array() function, specifying the desired shape and data type if needed.\n",
    "\n",
    "Creating Arrays with Specific Data Types\n",
    "NumPy allows you to specify the data type of the elements in an array using the dtype parameter. This feature is useful when you need to ensure that the array holds specific types of data, such as integers, floating-point numbers, or even complex numbers."
   ]
  },
  {
   "cell_type": "code",
   "execution_count": 10,
   "id": "d6c2c050-18ae-4ef5-8980-6e3802efdd0b",
   "metadata": {},
   "outputs": [],
   "source": [
    "import numpy as np\n",
    "\n",
    "arr = np.array([0.0, 1.0, 2.0], dtype=np.float64)\n"
   ]
  },
  {
   "cell_type": "markdown",
   "id": "0efeea86-7049-4ee2-b708-8ca41d868174",
   "metadata": {},
   "source": [
    "**Example 3: Creating a Three-Dimensional Array**"
   ]
  },
  {
   "cell_type": "code",
   "execution_count": 12,
   "id": "c71710cf-8811-464a-8c8a-89cc1c2cb927",
   "metadata": {},
   "outputs": [
    {
     "name": "stdout",
     "output_type": "stream",
     "text": [
      "Array: [[[0 1 2]\n",
      "  [3 4 5]]\n",
      "\n",
      " [[0 1 2]\n",
      "  [3 4 5]]]\n",
      "Dimensions: 3\n",
      "Shape: (2, 2, 3)\n"
     ]
    }
   ],
   "source": [
    "import numpy as np\n",
    "\n",
    "a = np.array([[[0, 1, 2], [3, 4, 5]], [[0, 1, 2], [3, 4, 5]]])\n",
    "print(\"Array:\", a)\n",
    "print(\"Dimensions:\", np.ndim(a))\n",
    "print(\"Shape:\", np.shape(a))\n"
   ]
  },
  {
   "cell_type": "markdown",
   "id": "a7a17f3c-25d9-4ea6-84ae-f4c64e00e70b",
   "metadata": {},
   "source": [
    "**Example 4: Creating a Higher-Dimensional Array**\n"
   ]
  },
  {
   "cell_type": "code",
   "execution_count": 14,
   "id": "b9003c61-e085-4bc5-9e95-943673303b66",
   "metadata": {},
   "outputs": [
    {
     "name": "stdout",
     "output_type": "stream",
     "text": [
      "[[[[[1 2 3 4 5 6 7 8]]]]]\n"
     ]
    }
   ],
   "source": [
    "import numpy as np\n",
    "\n",
    "a = np.array([1, 2, 3, 4, 5, 6, 7, 8], ndmin=5)\n",
    "print(a)\n"
   ]
  },
  {
   "cell_type": "markdown",
   "id": "4367541d-7127-45ad-9586-7f975bc0d542",
   "metadata": {},
   "source": [
    "This code creates a five-dimensional array, where additional dimensions have a size of 1 to meet the specified minimum of five dimensions."
   ]
  },
  {
   "cell_type": "markdown",
   "id": "a8b545c8-da6d-4c5a-b60a-2b4b3d823e0b",
   "metadata": {},
   "source": [
    "**Example 5: Creating an Array with a Specific Data Type**\n"
   ]
  },
  {
   "cell_type": "code",
   "execution_count": 17,
   "id": "4c4a98c2-7d91-4cb1-a0c3-6b634b277943",
   "metadata": {},
   "outputs": [
    {
     "name": "stdout",
     "output_type": "stream",
     "text": [
      "[0.  1.5 2. ]\n"
     ]
    }
   ],
   "source": [
    "import numpy as np\n",
    "\n",
    "a = np.array([0.0, 1.5, 2.0], dtype=np.float64)\n",
    "print(a)\n"
   ]
  },
  {
   "cell_type": "markdown",
   "id": "8cd68c98-63f8-41dd-aa61-f06f331e0fa1",
   "metadata": {},
   "source": [
    "This example creates an array of 64-bit floating-point numbers.\n",
    "\n",
    "These notes cover the basics of creating arrays in NumPy, including various dimensions and data types, which are fundamental when working with scientific data and computations."
   ]
  },
  {
   "cell_type": "code",
   "execution_count": null,
   "id": "784ebf54-7484-4eb9-804a-489c23574da1",
   "metadata": {},
   "outputs": [],
   "source": []
  }
 ],
 "metadata": {
  "kernelspec": {
   "display_name": "Python 3 (ipykernel)",
   "language": "python",
   "name": "python3"
  },
  "language_info": {
   "codemirror_mode": {
    "name": "ipython",
    "version": 3
   },
   "file_extension": ".py",
   "mimetype": "text/x-python",
   "name": "python",
   "nbconvert_exporter": "python",
   "pygments_lexer": "ipython3",
   "version": "3.12.4"
  }
 },
 "nbformat": 4,
 "nbformat_minor": 5
}
