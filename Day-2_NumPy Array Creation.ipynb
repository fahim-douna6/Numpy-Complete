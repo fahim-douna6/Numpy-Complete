{
 "cells": [
  {
   "cell_type": "markdown",
   "id": "e9745933-99ec-4f12-80d0-dd0a41bd37d3",
   "metadata": {},
   "source": [
    "# Day 2: NumPy Array Creation\n",
    "\n",
    "**NumPy**  is a popular Python library used for scientific computing, particularly for working with arrays. NumPy arrays are similar to Python lists, but they offer more efficient and convenient ways to perform mathematical operations on large datasets.\n",
    "\n",
    "There are several ways to create a NumPy array. Below are different methods for creating arrays in NumPy:\n",
    "\n",
    "1. Creating an Array from a List or Tuple\n",
    "You can create a NumPy array directly from a Python list or tuple using the np.array() function. This is the simplest way to create an array.\n",
    "\n",
    "**Example 1: Creating an array from a list**\n",
    "\n"
   ]
  },
  {
   "cell_type": "code",
   "execution_count": 3,
   "id": "2049af17-2d0f-4666-85fe-f5e84e2b8b61",
   "metadata": {},
   "outputs": [
    {
     "name": "stdout",
     "output_type": "stream",
     "text": [
      "[1 2 3 4 5]\n"
     ]
    }
   ],
   "source": [
    "import numpy as np\n",
    "\n",
    "my_list = [1, 2, 3, 4, 5]\n",
    "a = np.array(my_list)\n",
    "print(a)\n"
   ]
  },
  {
   "cell_type": "markdown",
   "id": "6cb6f9c5-1428-431b-bcbc-13ec2aa2a4a5",
   "metadata": {},
   "source": [
    "In this example, a Python list my_list containing integers is converted into a NumPy array using np.array(). The array a will contain the same elements as the list.\n",
    "\n",
    "**Example 2: Creating an array from a tuple**"
   ]
  },
  {
   "cell_type": "code",
   "execution_count": 6,
   "id": "5aa3fa4d-6f9a-4b41-9366-31152d6d98d3",
   "metadata": {},
   "outputs": [
    {
     "name": "stdout",
     "output_type": "stream",
     "text": [
      "[1 2 3 4 5]\n"
     ]
    }
   ],
   "source": [
    "import numpy as np\n",
    "\n",
    "my_tuple = (1, 2, 3, 4, 5)\n",
    "a = np.array(my_tuple)\n",
    "print(a)\n"
   ]
  },
  {
   "cell_type": "markdown",
   "id": "e489944d-3c9d-4e0a-a0ad-088c197ab8c8",
   "metadata": {},
   "source": [
    "This example is similar to the previous one, but it uses a tuple instead of a list. NumPy treats both lists and tuples similarly when creating arrays.\n",
    "\n",
    "**2. Creating an Array of Zeros or Ones**\n",
    "\n",
    "NumPy provides functions to create arrays filled with zeros or ones. This can be useful when initializing arrays for certain computations.\n",
    "\n",
    "**Example 1: Array of zeros**"
   ]
  },
  {
   "cell_type": "code",
   "execution_count": 9,
   "id": "a96c939b-ea1b-409a-8d30-d979b69456a7",
   "metadata": {},
   "outputs": [
    {
     "name": "stdout",
     "output_type": "stream",
     "text": [
      "[0. 0. 0. 0. 0.]\n"
     ]
    }
   ],
   "source": [
    "import numpy as np\n",
    "\n",
    "a = np.zeros(5)\n",
    "print(a)\n"
   ]
  },
  {
   "cell_type": "markdown",
   "id": "f5b65486-6634-4678-bc43-c427dda920a6",
   "metadata": {},
   "source": [
    "This code creates a one-dimensional array of zeros with a length of 5 using the np.zeros() function.\n",
    "\n",
    "\n",
    "**Example 2: Two-dimensional array of zeros**"
   ]
  },
  {
   "cell_type": "code",
   "execution_count": 12,
   "id": "09710706-321c-44fb-a300-e4e8e476f44e",
   "metadata": {},
   "outputs": [
    {
     "name": "stdout",
     "output_type": "stream",
     "text": [
      "[[0. 0. 0.]\n",
      " [0. 0. 0.]\n",
      " [0. 0. 0.]]\n"
     ]
    }
   ],
   "source": [
    "import numpy as np\n",
    "\n",
    "a = np.zeros((3, 3))\n",
    "print(a)\n"
   ]
  },
  {
   "cell_type": "markdown",
   "id": "84d7d3d6-d1a0-48cd-9052-cff9a4f565b2",
   "metadata": {},
   "source": [
    "Here, a 3x3 array filled with zeros is created.\n",
    "\n",
    "\n",
    "**Example 3: Array of ones**"
   ]
  },
  {
   "cell_type": "code",
   "execution_count": 15,
   "id": "9812baf1-3262-4539-ac15-8467f8064b52",
   "metadata": {},
   "outputs": [
    {
     "name": "stdout",
     "output_type": "stream",
     "text": [
      "[1. 1. 1. 1. 1.]\n"
     ]
    }
   ],
   "source": [
    "import numpy as np\n",
    "\n",
    "a = np.ones(5)\n",
    "print(a)\n"
   ]
  },
  {
   "cell_type": "markdown",
   "id": "36445f69-89c1-4585-8b25-190e8b9e345e",
   "metadata": {},
   "source": [
    "This example creates a one-dimensional array of ones with a length of 5 using the np.ones() function.\n",
    "\n",
    "    \n",
    "**Example 4: Two-dimensional array of ones**"
   ]
  },
  {
   "cell_type": "code",
   "execution_count": 18,
   "id": "186626d7-8b15-4300-aa0d-3f539ac0fd60",
   "metadata": {},
   "outputs": [
    {
     "name": "stdout",
     "output_type": "stream",
     "text": [
      "[[1. 1.]\n",
      " [1. 1.]]\n"
     ]
    }
   ],
   "source": [
    "import numpy as np\n",
    "\n",
    "a = np.ones((2, 2))\n",
    "print(a)\n"
   ]
  },
  {
   "cell_type": "markdown",
   "id": "f76e6c15-d9b0-41b5-829b-a661af54fcf6",
   "metadata": {},
   "source": [
    "A 2x2 array filled with ones is created in this example.\n",
    "\n",
    "\n",
    "    \n",
    "**3. Creating an Array with a Range of Values**\n",
    "You can use np.arange() to create an array with a sequence of values. This function is similar to Python’s built-in range() function, but it returns a NumPy array.\n",
    "\n",
    "**Example:**"
   ]
  },
  {
   "cell_type": "code",
   "execution_count": 24,
   "id": "a78956e1-bc10-43bf-baa1-e5cda78ad8a5",
   "metadata": {},
   "outputs": [
    {
     "name": "stdout",
     "output_type": "stream",
     "text": [
      "[0 2 4 6 8]\n"
     ]
    }
   ],
   "source": [
    "import numpy as np\n",
    "\n",
    "a = np.arange(0, 10, 2)\n",
    "print(a)\n"
   ]
  },
  {
   "cell_type": "markdown",
   "id": "276981bf-161f-4544-a133-5ba416d8ebe7",
   "metadata": {},
   "source": [
    "This creates an array with values starting at 0, ending before 10, and incrementing by 2.\n",
    "\n",
    "\n",
    "    \n",
    "**4. Creating an Array of Random Values**\n",
    "NumPy’s np.random.rand() function can be used to create arrays with random values. The shape of the array is specified as arguments.\n",
    "\n",
    "**Example:**"
   ]
  },
  {
   "cell_type": "code",
   "execution_count": 27,
   "id": "b55b4961-5dfe-4fb1-8642-f8534f83aa29",
   "metadata": {},
   "outputs": [
    {
     "name": "stdout",
     "output_type": "stream",
     "text": [
      "[[0.60244921 0.74817799 0.99735246 0.10769351]\n",
      " [0.28516039 0.79433792 0.41433112 0.47703797]]\n"
     ]
    }
   ],
   "source": [
    "import numpy as np\n",
    "\n",
    "a = np.random.rand(2, 4)\n",
    "print(a)\n"
   ]
  },
  {
   "cell_type": "markdown",
   "id": "0dee6fec-dcc8-4841-a81e-e8620beb53f0",
   "metadata": {},
   "source": [
    "This code creates a 2x4 array with random values between 0 and 1.\n",
    "\n",
    "\n",
    "    \n",
    "**5. Creating an Array of Evenly Spaced Values**\n",
    "The np.linspace() function generates arrays of evenly spaced values over a specified interval.\n",
    "\n",
    "**Example:**"
   ]
  },
  {
   "cell_type": "code",
   "execution_count": 32,
   "id": "9cb7a14d-94cb-43aa-9a1c-c70b1aafc725",
   "metadata": {},
   "outputs": [
    {
     "name": "stdout",
     "output_type": "stream",
     "text": [
      "[0.  0.1 0.2 0.3 0.4 0.5 0.6 0.7 0.8 0.9 1. ]\n"
     ]
    }
   ],
   "source": [
    "import numpy as np\n",
    "\n",
    "a = np.linspace(0, 1, 11)\n",
    "print(a)\n"
   ]
  },
  {
   "cell_type": "markdown",
   "id": "bf79e772-87f6-434a-b338-ee4ddf5097d7",
   "metadata": {},
   "source": [
    "This generates an array of 11 evenly spaced values between 0 and 1, inclusive.\n",
    "\n"
   ]
  },
  {
   "cell_type": "markdown",
   "id": "a80f7398-596b-4267-98ab-65d1580221ba",
   "metadata": {},
   "source": [
    "**Summary**\n",
    "These methods illustrate different ways to create arrays in NumPy. Arrays can be initialized with specific values, zeros, ones, random values, or even a range of values. \n",
    "\n",
    "These arrays are fundamental to handling large datasets and performing complex mathematical computations efficiently in scientific computing."
   ]
  },
  {
   "cell_type": "code",
   "execution_count": null,
   "id": "8a95ecb6-1144-46ec-9d6b-4008c4d5c6ab",
   "metadata": {},
   "outputs": [],
   "source": []
  }
 ],
 "metadata": {
  "kernelspec": {
   "display_name": "Python 3 (ipykernel)",
   "language": "python",
   "name": "python3"
  },
  "language_info": {
   "codemirror_mode": {
    "name": "ipython",
    "version": 3
   },
   "file_extension": ".py",
   "mimetype": "text/x-python",
   "name": "python",
   "nbconvert_exporter": "python",
   "pygments_lexer": "ipython3",
   "version": "3.12.4"
  }
 },
 "nbformat": 4,
 "nbformat_minor": 5
}
