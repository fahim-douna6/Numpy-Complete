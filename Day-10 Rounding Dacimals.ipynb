{
 "cells": [
  {
   "cell_type": "markdown",
   "id": "13048a06-3b27-4ffd-bcf6-37d26c10007f",
   "metadata": {},
   "source": [
    "# Rounding Decimals\n",
    "\n",
    "Rounding decimals involves adjusting a decimal number to a nearby value, often to a whole number or a certain number of decimal places, based on specific rules. \n",
    "These rules help decide whether to round a number up or down. Generally, rounding looks at the digit right after the desired rounding point.\n",
    "If this digit is less than 5, the number is rounded down, but if it's 5 or greater, the number is rounded up.\n",
    "\n",
    "Rounding is useful when exact precision isn't needed or when working with large datasets"
   ]
  },
  {
   "cell_type": "markdown",
   "id": "ca42b768-b624-432f-9ef8-86631381fb4c",
   "metadata": {},
   "source": [
    "**Methods of Rounding Decimals in NumPy**\n",
    "In NumPy, there are five primary ways to round off decimals:\n",
    "\n",
    "*Truncation (np.trunc)*\n",
    "\n",
    "*Fix (np.fix)*\n",
    "\n",
    "*Rounding (np.around)*\n",
    "\n",
    "*Floor (np.floor)*\n",
    "\n",
    "*Ceil (np.ceil)*"
   ]
  },
  {
   "cell_type": "markdown",
   "id": "8af8f6c3-6cdd-4722-bbf3-4874a98984f2",
   "metadata": {},
   "source": [
    "**1. Truncation (np.trunc())**\n",
    "Explanation:\n",
    "The np.trunc() method in NumPy truncates (or cuts off) the decimal part of each element in an array, effectively rounding towards zero. The fractional part of the number is discarded, leaving only the integer part.\n",
    "\n",
    "\n",
    "\n"
   ]
  },
  {
   "cell_type": "markdown",
   "id": "46bf790c-ad4a-45a7-a26c-c813826f1d22",
   "metadata": {},
   "source": [
    "**Example:**"
   ]
  },
  {
   "cell_type": "code",
   "execution_count": 12,
   "id": "9506961e-4e39-48e8-8df2-0fac5004bf97",
   "metadata": {},
   "outputs": [
    {
     "name": "stdout",
     "output_type": "stream",
     "text": [
      "Input array: [-2.5 -1.7  0.3  1.5  2.8]\n",
      "Truncated array: [-2. -1.  0.  1.  2.]\n"
     ]
    }
   ],
   "source": [
    "import numpy as np\n",
    "a = np.array([-2.5, -1.7, 0.3, 1.5, 2.8])\n",
    "b = np.trunc(a)\n",
    "print(\"Input array:\", a)\n",
    "print(\"Truncated array:\", b)\n"
   ]
  },
  {
   "cell_type": "markdown",
   "id": "177bacd6-051c-457d-a258-068db7732e3b",
   "metadata": {},
   "source": [
    "**2. Fix (np.fix())**\n",
    "\n",
    "Explanation:\n",
    "           \n",
    "np.fix() rounds each element of the input array towards zero. This function behaves similarly to np.trunc(), as it rounds numbers to their nearest integer by removing the decimal part, regardless of whether the number is positive or negative.\n",
    "\n"
   ]
  },
  {
   "cell_type": "markdown",
   "id": "cbc45aae-e84b-4110-8431-b31611ec5a67",
   "metadata": {},
   "source": [
    "**Example:**"
   ]
  },
  {
   "cell_type": "code",
   "execution_count": 20,
   "id": "c3044c69-80fe-421f-9d7b-faeab3b5a623",
   "metadata": {},
   "outputs": [
    {
     "name": "stdout",
     "output_type": "stream",
     "text": [
      "Input array: [-3.9 -3.5 -1.1  1.1  3.5  3.9]\n",
      "Fixed array: [-3. -3. -1.  1.  3.  3.]\n"
     ]
    }
   ],
   "source": [
    "import numpy as np\n",
    "a = np.array([-3.9, -3.5, -1.1, 1.1, 3.5, 3.9])\n",
    "b = np.fix(a)\n",
    "print(\"Input array:\", a)\n",
    "print(\"Fixed array:\", b)\n"
   ]
  },
  {
   "cell_type": "markdown",
   "id": "b16b5ddd-6666-4950-802f-0ac9f1f97f65",
   "metadata": {},
   "source": [
    "**3. Rounding (np.around())**\n",
    "\n",
    "Explanation:\n",
    "\n",
    "The np.around() method rounds each element in the array to the nearest integer or to a specified number of decimal places. If rounding to an integer, numbers are rounded based on common rounding rules (e.g., 0.5 and above are rounded up).\n",
    "\n"
   ]
  },
  {
   "cell_type": "markdown",
   "id": "a7bb539d-509c-46e0-a76c-0bf0c1b2f1ee",
   "metadata": {},
   "source": [
    "**Example 1: Rounding to the nearest integer.**"
   ]
  },
  {
   "cell_type": "code",
   "execution_count": 29,
   "id": "a594e0d6-32f1-4491-8b59-122d16157c48",
   "metadata": {},
   "outputs": [
    {
     "name": "stdout",
     "output_type": "stream",
     "text": [
      "Input array: [1.5  2.34 3.45 4.56]\n",
      "Rounded array: [2. 2. 3. 5.]\n"
     ]
    }
   ],
   "source": [
    "import numpy as np\n",
    "a = np.array([1.5, 2.34, 3.45, 4.56])\n",
    "b = np.around(a)\n",
    "print(\"Input array:\", a)\n",
    "print(\"Rounded array:\", b)\n"
   ]
  },
  {
   "cell_type": "markdown",
   "id": "0f9de455-4af8-4887-9432-db2697a67f4c",
   "metadata": {},
   "source": [
    "**Example 2: Rounding to two decimal places.**"
   ]
  },
  {
   "cell_type": "code",
   "execution_count": 36,
   "id": "41551b9d-5b01-4dd2-ab5c-7c537e19a992",
   "metadata": {},
   "outputs": [
    {
     "name": "stdout",
     "output_type": "stream",
     "text": [
      "Input array: [1.234 2.345 3.456 4.567]\n",
      "Rounded to 2 decimals: [1.23 2.35 3.46 4.57]\n"
     ]
    }
   ],
   "source": [
    "import numpy as np\n",
    "a = np.array([1.234, 2.345, 3.456, 4.567])\n",
    "b = np.around(a, decimals=2)\n",
    "print(\"Input array:\", a)\n",
    "print(\"Rounded to 2 decimals:\", b)\n"
   ]
  },
  {
   "cell_type": "markdown",
   "id": "f070f097-f817-4305-9f0a-4ab5815b1034",
   "metadata": {},
   "source": [
    "**4. Floor (np.floor())**\n",
    "\n",
    "Explanation:\n",
    "           \n",
    "The np.floor() method rounds down each element of an array to the nearest integer. This function returns the largest integer less than or equal to the input.\n",
    "\n"
   ]
  },
  {
   "cell_type": "markdown",
   "id": "69b4a278-c29b-4b07-b849-7e87d973e074",
   "metadata": {},
   "source": [
    "**Example 1:**"
   ]
  },
  {
   "cell_type": "code",
   "execution_count": 40,
   "id": "6a639201-0eb3-4153-87da-61893f4d8fc1",
   "metadata": {},
   "outputs": [
    {
     "name": "stdout",
     "output_type": "stream",
     "text": [
      "Input array: [-2.23, 0.12, -1.34, 123.34]\n",
      "Floored array: [ -3.   0.  -2. 123.]\n"
     ]
    }
   ],
   "source": [
    "import numpy as np\n",
    "a = [-2.23, 0.12, -1.34, 123.34]\n",
    "b = np.floor(a)\n",
    "print(\"Input array:\", a)\n",
    "print(\"Floored array:\", b)\n"
   ]
  },
  {
   "cell_type": "markdown",
   "id": "db114806-85cc-41bb-9b0b-7a0d6a54e408",
   "metadata": {},
   "source": [
    "**Example 2:**"
   ]
  },
  {
   "cell_type": "code",
   "execution_count": 48,
   "id": "689e88f9-a6b6-4ae3-a8e5-4948966b8010",
   "metadata": {},
   "outputs": [
    {
     "name": "stdout",
     "output_type": "stream",
     "text": [
      "Input array: [0.23, 0.09, 1.2, 1.24, 9.99]\n",
      "Floored array: [0. 0. 1. 1. 9.]\n"
     ]
    }
   ],
   "source": [
    "import numpy as np\n",
    "a = [0.23, 0.09, 1.2, 1.24, 9.99]\n",
    "b = np.floor(a)\n",
    "print(\"Input array:\", a)\n",
    "print(\"Floored array:\", b)\n"
   ]
  },
  {
   "cell_type": "markdown",
   "id": "e32e43b5-4e2f-4cf0-a8b8-561ffbbe376d",
   "metadata": {},
   "source": [
    "**5. Ceil (np.ceil())**\n",
    "\n",
    "Explanation:\n",
    "\n",
    "           The np.ceil() method rounds up each element in the array to the nearest integer. It returns the smallest integer greater than or equal to the input value.\n",
    "\n"
   ]
  },
  {
   "cell_type": "markdown",
   "id": "c30c9585-f857-48a4-970c-8c6fd9ddb4f4",
   "metadata": {},
   "source": [
    "**Example 1:**"
   ]
  },
  {
   "cell_type": "code",
   "execution_count": 52,
   "id": "daf2d934-df4d-4eff-89c2-1f9e3b7c1c4c",
   "metadata": {},
   "outputs": [
    {
     "name": "stdout",
     "output_type": "stream",
     "text": [
      "Input array: [-2.23, 0.12, -1.34, 123.34]\n",
      "Ceiled array: [ -2.   1.  -1. 124.]\n"
     ]
    }
   ],
   "source": [
    "import numpy as np\n",
    "a = [-2.23, 0.12, -1.34, 123.34]\n",
    "b = np.ceil(a)\n",
    "print(\"Input array:\", a)\n",
    "print(\"Ceiled array:\", b)\n"
   ]
  },
  {
   "cell_type": "markdown",
   "id": "5ee77255-6ff9-418a-8cb1-ae1b5bc33d7c",
   "metadata": {},
   "source": [
    "**Example 2:**"
   ]
  },
  {
   "cell_type": "code",
   "execution_count": 58,
   "id": "0fbbae1a-c00f-4052-9831-f42e69674524",
   "metadata": {},
   "outputs": [
    {
     "name": "stdout",
     "output_type": "stream",
     "text": [
      "Input array: [0.23, 0.09, 1.2, 1.24, 9.99]\n",
      "Ceiled array: [ 1.  1.  2.  2. 10.]\n"
     ]
    }
   ],
   "source": [
    "import numpy as np\n",
    "a = [0.23, 0.09, 1.2, 1.24, 9.99]\n",
    "b = np.ceil(a)\n",
    "print(\"Input array:\", a)\n",
    "print(\"Ceiled array:\", b)\n"
   ]
  },
  {
   "cell_type": "markdown",
   "id": "3a62f4b9-7a77-4c9d-b8dc-348aa4c7e20e",
   "metadata": {},
   "source": [
    "**Summary:**\n",
    "  \n",
    "- np.trunc() truncates decimal values towards zero.\n",
    "- np.fix() rounds towards zero, removing the fractional part.\n",
    "- np.around() rounds to the nearest value, allowing control over decimal places.\n",
    "- np.floor() rounds down to the nearest integer.\n",
    "- np.ceil() rounds up to the nearest integer."
   ]
  },
  {
   "cell_type": "code",
   "execution_count": null,
   "id": "14707215-c1e6-4adc-9fd9-d51f73045af7",
   "metadata": {},
   "outputs": [],
   "source": []
  }
 ],
 "metadata": {
  "kernelspec": {
   "display_name": "Python 3 (ipykernel)",
   "language": "python",
   "name": "python3"
  },
  "language_info": {
   "codemirror_mode": {
    "name": "ipython",
    "version": 3
   },
   "file_extension": ".py",
   "mimetype": "text/x-python",
   "name": "python",
   "nbconvert_exporter": "python",
   "pygments_lexer": "ipython3",
   "version": "3.12.4"
  }
 },
 "nbformat": 4,
 "nbformat_minor": 5
}
