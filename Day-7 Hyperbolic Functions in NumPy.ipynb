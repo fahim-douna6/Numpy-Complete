{
 "cells": [
  {
   "cell_type": "markdown",
   "id": "f02dd3de-38db-4b2a-836c-6d539bf68b2c",
   "metadata": {},
   "source": [
    "# Hyperbolic Functions in NumPy\n",
    "Hyperbolic functions are analogs of the trigonometric functions but for a hyperbola rather than a circle. In mathematical analysis, these functions are crucial for describing the shapes and properties of hyperbolas. NumPy, a powerful library in Python, provides functions to handle hyperbolic functions efficiently.\n",
    "\n",
    "**1. Basic Hyperbolic Functions**\n",
    "sinh(x): This function calculates the hyperbolic sine of x.\n",
    "\n",
    "Formula: \n",
    "$$sinh(𝑥)=\\frac{𝑒^x −𝑒^−𝑥}{2}$$\n",
    " \n",
    "​\n",
    " \n",
    "\n",
    "**NumPy Function:**  numpy.sinh(x)\n",
    "\n",
    "Example"
   ]
  },
  {
   "cell_type": "code",
   "execution_count": 2,
   "id": "6177e24f-a498-4461-86c2-b8107bf9a0e6",
   "metadata": {},
   "outputs": [
    {
     "name": "stdout",
     "output_type": "stream",
     "text": [
      "[ 0.          1.17520119 -1.17520119]\n"
     ]
    }
   ],
   "source": [
    "import numpy as np\n",
    "x = np.array([0, 1, -1])\n",
    "result = np.sinh(x)\n",
    "print(result)  # Output: [0.         1.17520119 -1.17520119]\n"
   ]
  },
  {
   "cell_type": "markdown",
   "id": "581b5216-36f0-4991-a9ed-6492e294b497",
   "metadata": {},
   "source": [
    "**Explanation:** The hyperbolic sine function maps a real number \n",
    "𝑥 to a corresponding hyperbolic angle. It is analogous to the sine function in circular trigonometry but uses exponential functions.\n",
    "\n",
    "cosh(x): This function calculates the hyperbolic cosine of x.\n",
    "\n",
    "Formula: \n",
    "$$cosh(𝑥)=\\frac{𝑒^x +𝑒^−𝑥}{2} $$\n",
    "\n",
    " \n",
    "NumPy Function: numpy.cosh(x)\n"
   ]
  },
  {
   "cell_type": "code",
   "execution_count": 4,
   "id": "7cc2739f-0362-43fe-a0fc-c80f16bb3d75",
   "metadata": {},
   "outputs": [
    {
     "name": "stdout",
     "output_type": "stream",
     "text": [
      "[1.         1.54308063 1.54308063]\n"
     ]
    }
   ],
   "source": [
    "import numpy as np\n",
    "x = np.array([0, 1, -1])\n",
    "result = np.cosh(x)\n",
    "print(result)  # Output: [1.         1.54308063  1.54308063]\n"
   ]
  },
  {
   "cell_type": "markdown",
   "id": "40f7f16a-df8c-4ad0-8af6-6e9bdd77a156",
   "metadata": {},
   "source": [
    "Explanation: The hyperbolic cosine function maps a real number \n",
    "𝑥 to a corresponding hyperbolic length. It represents the average of exponential growth and decay rates.\n",
    "\n",
    "tanh(x): This function calculates the hyperbolic tangent of x.\n",
    "\n",
    "Formula: \n",
    "\n",
    "$$ tanh⁡(𝑥)=\\frac{sinh⁡(𝑥)}{cosh(𝑥)} = \\frac{𝑒^x −𝑒^−𝑥}{𝑒^x+𝑒^−𝑥} $$\n",
    "\n",
    "​\n",
    " \n",
    "NumPy Function: numpy.tanh(x)\n",
    "Example"
   ]
  },
  {
   "cell_type": "code",
   "execution_count": 10,
   "id": "a6a195f7-bec1-4850-8949-51a002b59eab",
   "metadata": {},
   "outputs": [
    {
     "name": "stdout",
     "output_type": "stream",
     "text": [
      "[ 0.          0.76159416 -0.76159416]\n"
     ]
    }
   ],
   "source": [
    "import numpy as np\n",
    "x = np.array([0, 1, -1])\n",
    "result = np.tanh(x)\n",
    "print(result)  # Output: [0.         0.76159416 -0.76159416]\n"
   ]
  },
  {
   "cell_type": "markdown",
   "id": "76db0d40-af86-4b19-9f97-6d204881662a",
   "metadata": {},
   "source": [
    "**Explanation:** The hyperbolic tangent function gives the ratio of the hyperbolic sine to the hyperbolic cosine. It provides values ranging between -1 and 1, similar to the circular tangent function.\n",
    "\n",
    "\n",
    "**Inverse Hyperbolic Functions**\n",
    "Inverse hyperbolic functions are used to find the hyperbolic angle corresponding to a given value of a hyperbolic function.\n",
    "\n",
    "**1. arcsinh(x): Inverse hyperbolic sine of x**\n",
    "\n",
    "Formula: \n",
    "\n",
    " arcsinh(𝑥)=ln(𝑥+$ \\sqrt{x^2+ 1} $ )\n",
    "\n",
    "NumPy Function: numpy.arcsinh(x)\n",
    "\n",
    "Example"
   ]
  },
  {
   "cell_type": "code",
   "execution_count": 26,
   "id": "f8862d6b-01b4-4286-a320-fd9e8a22a998",
   "metadata": {},
   "outputs": [
    {
     "name": "stdout",
     "output_type": "stream",
     "text": [
      "[ 0.          0.88137359 -0.88137359]\n"
     ]
    }
   ],
   "source": [
    "import numpy as np\n",
    "x = np.array([0, 1, -1])\n",
    "result = np.arcsinh(x)\n",
    "print(result)  # Output: [0.          0.88137359 -0.88137359]\n"
   ]
  },
  {
   "cell_type": "markdown",
   "id": "afc686d9-86ed-4ed7-876e-81b55b37d13b",
   "metadata": {},
   "source": [
    "Explanation: This function provides the hyperbolic angle whose hyperbolic sine is x.\n",
    "arccosh(x): Inverse hyperbolic cosine of x. (Defined only for  x≥1)\n",
    "\n",
    "Formula: \n",
    "arccosh(𝑥)= ln(𝑥+$ \\sqrt{x^2- 1} $ )\n",
    "\n",
    "NumPy Function: numpy.arccosh(x)\n",
    "\n",
    "Example"
   ]
  },
  {
   "cell_type": "code",
   "execution_count": 33,
   "id": "91e1320e-5005-4eec-b25c-8878f5c8aac5",
   "metadata": {},
   "outputs": [
    {
     "name": "stdout",
     "output_type": "stream",
     "text": [
      "[0.         1.3169579  1.76274717]\n"
     ]
    }
   ],
   "source": [
    "import numpy as np\n",
    "x = np.array([1, 2, 3])\n",
    "result = np.arccosh(x)\n",
    "print(result)  # Output: [0.         1.3169579  1.76274717]\n"
   ]
  },
  {
   "cell_type": "markdown",
   "id": "b8417fa2-1b20-4293-85fc-2e1d921d9eab",
   "metadata": {},
   "source": [
    "Explanation: This function returns the hyperbolic angle corresponding to a given hyperbolic cosine value. It is only defined for inputs greater than or equal to 1.\n",
    "arctanh(x): Inverse hyperbolic tangent of x. (Defined for −1<x<1)\n",
    "\n",
    "Formula:\n",
    "                                              arctanh(𝑥)= $ \\frac{1}{2} $ ln $\\frac{(1+𝑥)}{1−𝑥)}$\n",
    "\n",
    " )\n",
    "NumPy Function: numpy.arctanh(x)\n",
    "\n",
    "Example"
   ]
  },
  {
   "cell_type": "code",
   "execution_count": 38,
   "id": "21124f7c-da4c-4bef-a8d9-705137719369",
   "metadata": {},
   "outputs": [
    {
     "name": "stdout",
     "output_type": "stream",
     "text": [
      "[ 0.          0.54930614 -0.54930614]\n"
     ]
    }
   ],
   "source": [
    "import numpy as np\n",
    "x = np.array([0, 0.5, -0.5])\n",
    "result = np.arctanh(x)\n",
    "print(result)  # Output: [ 0.          0.54930614 -0.54930614]\n"
   ]
  },
  {
   "cell_type": "markdown",
   "id": "9e05f06e-2499-413a-85dd-92d5aaf41e63",
   "metadata": {},
   "source": [
    "**Explanation:** This function finds the hyperbolic angle that yields the specified hyperbolic tangent. It is defined for input values strictly between -1 and 1.\n",
    "\n",
    "# Applications of Hyperbolic Functions\n",
    "Relativity and Physics: Hyperbolic functions describe rapid changes in relativity, such as Lorentz transformations.\n",
    "Engineering: They are used in signal processing and electrical engineering for analyzing waveforms.\n",
    "Mathematical Analysis: These functions appear in the solutions of differential equations and in the modeling of hyperbolic geometry.\n",
    "# Summary\n",
    "Hyperbolic functions are essential in various fields of mathematics and science. NumPy provides a straightforward way to compute these functions, making it easier to implement and solve complex mathematical models involving hyperbolic geometry or wave phenomena. Understanding these functions and their inverse counterparts expands the toolkit for analyzing and solving problems that exhibit hyperbolic behavior."
   ]
  },
  {
   "cell_type": "code",
   "execution_count": null,
   "id": "feecb197-4ad8-4429-b923-6bde3a72ff94",
   "metadata": {},
   "outputs": [],
   "source": []
  }
 ],
 "metadata": {
  "kernelspec": {
   "display_name": "Python 3 (ipykernel)",
   "language": "python",
   "name": "python3"
  },
  "language_info": {
   "codemirror_mode": {
    "name": "ipython",
    "version": 3
   },
   "file_extension": ".py",
   "mimetype": "text/x-python",
   "name": "python",
   "nbconvert_exporter": "python",
   "pygments_lexer": "ipython3",
   "version": "3.12.4"
  }
 },
 "nbformat": 4,
 "nbformat_minor": 5
}
