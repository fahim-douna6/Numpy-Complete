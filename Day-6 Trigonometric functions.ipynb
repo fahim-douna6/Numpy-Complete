{
 "cells": [
  {
   "cell_type": "markdown",
   "id": "174b4cf9-8da5-4745-b5c5-be3e5333ae87",
   "metadata": {},
   "source": [
    "# **Trigonometric Functions in NumPy**"
   ]
  },
  {
   "cell_type": "markdown",
   "id": "8ded900c-30f6-486e-8f8f-fa0d79c9419e",
   "metadata": {},
   "source": [
    "**Trigonometric functions** are mathematical functions that relate angles to side lengths in a right triangle. \n",
    "In NumPy, several trigonometric functions are available for calculating values involving angles. These functions operate with angles measured in radians.\n",
    "\n",
    "**Commonly Used Trigonometric Functions:**\n",
    "1. numpy.sin(x): Computes the sine of x, where x is an angle in radians.\n",
    "2. numpy.cos(x): Computes the cosine of x, where x is an angle in radians.\n",
    "3. numpy.tan(x): Computes the tangent of x, where x is an angle in radians.\n",
    "4. numpy.arcsin(x): Computes the inverse sine (arcsine) of x, where x is a value between -1 and 1. Returns the angle in radians.\n",
    "5. numpy.arccos(x): Computes the inverse cosine (arccosine) of x,x is a value between -1 and 1. Returns the angle in radians.\n",
    "6. numpy.arctan(x): Computesx, where x is a value between -∞ and ∞. Returns the angle in radians.\n",
    " \n",
    "**Note:** If you have an angle in degrees, convert it to radians using the formula radians = degrees × (π / 180).\n",
    "\n"
   ]
  },
  {
   "cell_type": "markdown",
   "id": "9582c91f-1da8-4202-b846-cb5f8af0cf9c",
   "metadata": {},
   "source": [
    "\n",
    "# 01. Finding Values\n",
    "**1. numpy.sin() Function**\n",
    "\n"
   ]
  },
  {
   "cell_type": "markdown",
   "id": "1b50c0bf-c536-4939-acb4-e75a633a6250",
   "metadata": {},
   "source": [
    "**Example 01:**"
   ]
  },
  {
   "cell_type": "code",
   "execution_count": 9,
   "id": "3903f403-1d2a-4dc1-a367-cf455d2393a6",
   "metadata": {},
   "outputs": [
    {
     "name": "stdout",
     "output_type": "stream",
     "text": [
      "Value of Sine: 1.0\n"
     ]
    }
   ],
   "source": [
    "import numpy as np\n",
    "a = np.sin(np.pi/2)\n",
    "print(\"Value of Sine:\", a)\n"
   ]
  },
  {
   "cell_type": "markdown",
   "id": "782bc0cc-f55b-4cd8-9683-06fa734e9701",
   "metadata": {},
   "source": [
    "**Explanation:** This calculates the sine of π/2 radians, which is 1. The output will be Value of Sine: 1.0.\n",
    "\n",
    "\n",
    "**Example 02:**\n"
   ]
  },
  {
   "cell_type": "code",
   "execution_count": 14,
   "id": "bbbda866-d0dd-4daf-a54a-0a9a9a09b691",
   "metadata": {},
   "outputs": [
    {
     "name": "stdout",
     "output_type": "stream",
     "text": [
      "Original array: [1.57079633 1.04719755 0.        ]\n",
      "\n",
      "Values of Sine: [1.        0.8660254 0.       ]\n"
     ]
    }
   ],
   "source": [
    "import numpy as np\n",
    "a = np.array([np.pi/2, np.pi/3, 0])\n",
    "print(\"Original array:\", a)\n",
    "print()\n",
    "b = np.sin(a)\n",
    "print(\"Values of Sine:\", b)\n"
   ]
  },
  {
   "cell_type": "markdown",
   "id": "2277010a-8d5a-458c-b42d-cf0aae70bfe4",
   "metadata": {},
   "source": [
    "**Explanation:** Computes the sine for each element in the array a (π/2, π/3, and 0). The output is an array with the sine values of these angles.\n",
    "\n",
    "\n",
    "**Example 03:**\n"
   ]
  },
  {
   "cell_type": "code",
   "execution_count": 17,
   "id": "ddfba1e3-4174-42be-8e67-33f67afd1c3a",
   "metadata": {},
   "outputs": [
    {
     "name": "stdout",
     "output_type": "stream",
     "text": [
      "Original array: [3.14159265 2.0943951  0.        ]\n",
      "\n",
      "Values of Sine: [1.22464680e-16 8.66025404e-01 0.00000000e+00]\n"
     ]
    }
   ],
   "source": [
    "import numpy as np\n",
    "a = np.array([2*np.pi/2, 2*np.pi/3, 0])\n",
    "print(\"Original array:\", a)\n",
    "print()\n",
    "b = np.sin(a)\n",
    "print(\"Values of Sine:\", b)\n"
   ]
  },
  {
   "cell_type": "markdown",
   "id": "427e8499-73be-4004-a8e5-90cf7e6a815d",
   "metadata": {},
   "source": [
    "**Explanation:** Calculates the sine of angles 2π/2 (π), 2π/3, and 0. Since 2π is a full circle, π corresponds to 180 degrees, where the sine value is 0.\n",
    "\n"
   ]
  },
  {
   "cell_type": "markdown",
   "id": "11dd8792-82de-4787-8e0f-0700b99af9ae",
   "metadata": {},
   "source": [
    "**2. numpy.cos() Function**\n",
    "\n",
    "**Example 01:**\n",
    "    "
   ]
  },
  {
   "cell_type": "code",
   "execution_count": 21,
   "id": "15b5e8b5-b45a-4f8a-97fa-a93073399b07",
   "metadata": {},
   "outputs": [
    {
     "name": "stdout",
     "output_type": "stream",
     "text": [
      "Original array: [1.57079633 1.04719755 0.        ]\n",
      "\n",
      "Cosine Values: [6.123234e-17 5.000000e-01 1.000000e+00]\n"
     ]
    }
   ],
   "source": [
    "import numpy as np\n",
    "a = np.array([np.pi/2, np.pi/3, 0])\n",
    "print(\"Original array:\", a)\n",
    "print()\n",
    "b = np.cos(a)\n",
    "print(\"Cosine Values:\", b)\n"
   ]
  },
  {
   "cell_type": "markdown",
   "id": "22b9c30b-bd4c-4798-aeb1-25e8356a2b7e",
   "metadata": {},
   "source": [
    "**Explanation:** Computes the cosine for each element in the array a. For example, cos(π/2) is 0.\n",
    "\n",
    "\n",
    "**Example 02:**"
   ]
  },
  {
   "cell_type": "code",
   "execution_count": 26,
   "id": "325176e8-69aa-4bbe-bed3-57d7a7545439",
   "metadata": {},
   "outputs": [
    {
     "name": "stdout",
     "output_type": "stream",
     "text": [
      "Original array: [3.14159265 2.0943951  0.        ]\n",
      "\n",
      "Cosine Values: [-1.  -0.5  1. ]\n"
     ]
    }
   ],
   "source": [
    "import numpy as np\n",
    "a = np.array([2*np.pi/2, 2*np.pi/3, 0])\n",
    "print(\"Original array:\", a)\n",
    "print()\n",
    "b = np.cos(a)\n",
    "print(\"Cosine Values:\", b)\n"
   ]
  },
  {
   "cell_type": "markdown",
   "id": "aa702814-3694-48c8-abca-57cc7e00186e",
   "metadata": {},
   "source": [
    "**Explanation:** Calculates the cosine of angles 2π/2 (π), 2π/3, and 0. Cos(π) is -1, and cos(0) is 1.\n",
    "\n"
   ]
  },
  {
   "cell_type": "markdown",
   "id": "213158f6-dff5-41d6-a024-fd9a544ec9c7",
   "metadata": {},
   "source": [
    "**3. numpy.tan() Function**\n",
    "\n",
    "Example:"
   ]
  },
  {
   "cell_type": "code",
   "execution_count": 30,
   "id": "3962e130-194a-4387-ac20-5cfa95090cb4",
   "metadata": {},
   "outputs": [
    {
     "name": "stdout",
     "output_type": "stream",
     "text": [
      "Original array: [4.71238898 2.0943951  3.92699082]\n",
      "\n",
      "Tangent Values: [ 5.44374645e+15 -1.73205081e+00  1.00000000e+00]\n"
     ]
    }
   ],
   "source": [
    "import numpy as np\n",
    "a = np.array([3*np.pi/2, 2*np.pi/3, 5*np.pi/4])\n",
    "print(\"Original array:\", a)\n",
    "print()\n",
    "b = np.tan(a)\n",
    "print(\"Tangent Values:\", b)\n"
   ]
  },
  {
   "cell_type": "markdown",
   "id": "b19b8c7e-b6e5-43ad-91e3-56bc49fdb2fe",
   "metadata": {},
   "source": [
    "**Explanation:** Computes the tangent of angles 3π/2, 2π/3, and 5π/4. Tangent can be very large or undefined at certain angles, such as 3π/2 (where the tangent is undefined).\n"
   ]
  },
  {
   "cell_type": "markdown",
   "id": "38a7b321-b495-438b-b14f-46464a05477f",
   "metadata": {},
   "source": [
    "# 02. Finding Angles\n",
    "**Finding angles from trigonometric values (inverse functions):**"
   ]
  },
  {
   "cell_type": "markdown",
   "id": "8735bd3e-6440-4a12-96b7-8d8cb7d108d0",
   "metadata": {},
   "source": [
    "**1. numpy.arcsin() Function**\n",
    "\n",
    "**Example**"
   ]
  },
  {
   "cell_type": "code",
   "execution_count": 35,
   "id": "3b222468-f651-4f7a-a78e-6c2c42893063",
   "metadata": {},
   "outputs": [
    {
     "name": "stdout",
     "output_type": "stream",
     "text": [
      "Original array: [4.71238898 2.0943951  3.92699082]\n",
      "\n",
      "Values of Sine: [-1.          0.8660254  -0.70710678]\n",
      "\n",
      "Inverse Values of Sine: [-1.57079633  1.04719755 -0.78539816]\n"
     ]
    }
   ],
   "source": [
    "import numpy as np\n",
    "a = np.array([3*np.pi/2, 2*np.pi/3, 5*np.pi/4])\n",
    "print(\"Original array:\", a)\n",
    "print()\n",
    "b = np.sin(a)\n",
    "print(\"Values of Sine:\", b)\n",
    "print()\n",
    "c = np.arcsin(b)\n",
    "print(\"Inverse Values of Sine:\", c)\n"
   ]
  },
  {
   "cell_type": "markdown",
   "id": "8ad78da6-f152-4e99-8a32-18e2c24dac37",
   "metadata": {},
   "source": [
    "**Explanation:** Computes the sine values for the angles in array a, then finds the angles whose sine values correspond to those results.\n",
    "\n",
    "\n",
    "\n"
   ]
  },
  {
   "cell_type": "markdown",
   "id": "798aa768-aaee-4488-bb4a-800f414bcb18",
   "metadata": {},
   "source": [
    "**2. numpy.arccos() Function**\n",
    "\n",
    "\n",
    "Example:\n"
   ]
  },
  {
   "cell_type": "code",
   "execution_count": 41,
   "id": "78864b65-e74f-4a51-9aea-27c076138011",
   "metadata": {},
   "outputs": [
    {
     "name": "stdout",
     "output_type": "stream",
     "text": [
      "Original array: [4.71238898 2.0943951  3.92699082]\n",
      "\n",
      "Values of Cosine: [-1.83697020e-16 -5.00000000e-01 -7.07106781e-01]\n",
      "\n",
      "Inverse Values of Cosine: [1.57079633 2.0943951  2.35619449]\n"
     ]
    }
   ],
   "source": [
    "import numpy as np\n",
    "a = np.array([3*np.pi/2, 2*np.pi/3, 5*np.pi/4])\n",
    "print(\"Original array:\", a)\n",
    "print()\n",
    "b = np.cos(a)\n",
    "print(\"Values of Cosine:\", b)\n",
    "print()\n",
    "c = np.arccos(b)\n",
    "print(\"Inverse Values of Cosine:\", c)\n"
   ]
  },
  {
   "cell_type": "markdown",
   "id": "8c496e2f-f166-486b-94ca-dac9c161d334",
   "metadata": {},
   "source": [
    "**Explanation:** Computes the cosine values for angles in a, then calculates the angles whose cosine values match these results.\n"
   ]
  },
  {
   "cell_type": "markdown",
   "id": "d9c6eabc-fbe6-4bf0-aa52-6063aae184cf",
   "metadata": {},
   "source": [
    "**3. numpy.arctan() Function**\n",
    "\n",
    "Example:"
   ]
  },
  {
   "cell_type": "code",
   "execution_count": 45,
   "id": "b0e1b31c-ae04-4a04-8add-ab08f696478a",
   "metadata": {},
   "outputs": [
    {
     "name": "stdout",
     "output_type": "stream",
     "text": [
      "Original array: [4.71238898 2.0943951  3.92699082]\n",
      "\n",
      "Values of Tangent: [ 5.44374645e+15 -1.73205081e+00  1.00000000e+00]\n",
      "\n",
      "Inverse Values of Tangent: [ 1.57079633 -1.04719755  0.78539816]\n"
     ]
    }
   ],
   "source": [
    "import numpy as np\n",
    "a = np.array([3*np.pi/2, 2*np.pi/3, 5*np.pi/4])\n",
    "print(\"Original array:\", a)\n",
    "print()\n",
    "b = np.tan(a)\n",
    "print(\"Values of Tangent:\", b)\n",
    "print()\n",
    "c = np.arctan(b)\n",
    "print(\"Inverse Values of Tangent:\", c)\n"
   ]
  },
  {
   "cell_type": "markdown",
   "id": "0b5b90fa-b71e-42fa-851b-0b25926dc195",
   "metadata": {},
   "source": [
    "**Explanation:** Computes the tangent values for the angles in a, then finds the angles whose tangent values correspond to these results.\n"
   ]
  },
  {
   "cell_type": "markdown",
   "id": "a31d30e8-5c8f-463d-b8b1-2da191f41e51",
   "metadata": {},
   "source": [
    "# **03. Convert Degrees to Radians**\n",
    "\n",
    "To convert degrees to radians, use:"
   ]
  },
  {
   "cell_type": "markdown",
   "id": "53576233-d142-42ae-a870-480979e1954e",
   "metadata": {},
   "source": [
    "**Formula**\n",
    "***radians = degrees × (π / 180)***\n"
   ]
  },
  {
   "cell_type": "code",
   "execution_count": null,
   "id": "de1d00cd-9926-43d7-9753-aa9c08fb8b06",
   "metadata": {},
   "outputs": [],
   "source": []
  },
  {
   "cell_type": "markdown",
   "id": "3b1be959-1ed1-4694-9134-45e9c922e8b7",
   "metadata": {},
   "source": [
    "**Example 01:**\n"
   ]
  },
  {
   "cell_type": "code",
   "execution_count": 51,
   "id": "277b6203-1983-4927-839a-55999b9a41da",
   "metadata": {},
   "outputs": [
    {
     "name": "stdout",
     "output_type": "stream",
     "text": [
      "0 degrees in radians: 0.0\n"
     ]
    }
   ],
   "source": [
    "import numpy as np\n",
    "deg = 0\n",
    "rad = np.deg2rad(deg)\n",
    "print(\"0 degrees in radians:\", rad)\n"
   ]
  },
  {
   "cell_type": "markdown",
   "id": "9979baf0-7681-4a0d-89b2-95e8f07c2065",
   "metadata": {},
   "source": [
    "**Example 02:**\n",
    "\n"
   ]
  },
  {
   "cell_type": "code",
   "execution_count": 55,
   "id": "96942fde-e6c6-4c79-92f7-8d3c64681a0a",
   "metadata": {},
   "outputs": [
    {
     "name": "stdout",
     "output_type": "stream",
     "text": [
      "270 degrees in radians: 4.71238898038469\n"
     ]
    }
   ],
   "source": [
    "import numpy as np\n",
    "deg = 270\n",
    "rad = np.deg2rad(deg)\n",
    "print(\"270 degrees in radians:\", rad)\n"
   ]
  },
  {
   "cell_type": "markdown",
   "id": "addb7046-24aa-4d0d-8e1b-b9bfd97108b7",
   "metadata": {},
   "source": [
    "**Example 03:**\n",
    "\n"
   ]
  },
  {
   "cell_type": "code",
   "execution_count": 59,
   "id": "75b35058-852d-40ba-89aa-f3de29c24d22",
   "metadata": {},
   "outputs": [
    {
     "name": "stdout",
     "output_type": "stream",
     "text": [
      "-90 degrees in radians: -1.5707963267948966\n"
     ]
    }
   ],
   "source": [
    "import numpy as np\n",
    "deg = -90\n",
    "rad = np.deg2rad(deg)\n",
    "print(\"-90 degrees in radians:\", rad)\n"
   ]
  },
  {
   "cell_type": "markdown",
   "id": "0468d9f7-8dd1-4bb3-9ec4-18716e63ae9b",
   "metadata": {},
   "source": [
    "**Example 04:**\n",
    "\n"
   ]
  },
  {
   "cell_type": "code",
   "execution_count": 63,
   "id": "fd831c8c-00cf-414b-ba20-490f51b84a12",
   "metadata": {},
   "outputs": [
    {
     "name": "stdout",
     "output_type": "stream",
     "text": [
      "-180 degrees in radians: -3.141592653589793\n"
     ]
    }
   ],
   "source": [
    "import numpy as np\n",
    "deg = -180\n",
    "rad = np.deg2rad(deg)\n",
    "print(\"-180 degrees in radians:\", rad)\n"
   ]
  },
  {
   "cell_type": "markdown",
   "id": "6c08e606-dbe4-4599-b6e1-1990ea2ef7b3",
   "metadata": {},
   "source": [
    "**Example 05:**\n",
    "\n"
   ]
  },
  {
   "cell_type": "code",
   "execution_count": 71,
   "id": "07f424d5-70c6-4ebc-861e-cbec5fd3bec9",
   "metadata": {},
   "outputs": [
    {
     "name": "stdout",
     "output_type": "stream",
     "text": [
      "Degree Values: [ 0 30 45 60 90]\n",
      "\n",
      "Radians Values: [0.         0.52359878 0.78539816 1.04719755 1.57079633]\n"
     ]
    }
   ],
   "source": [
    "import numpy as np   \n",
    "deg = np.array([0, 30, 45, 60, 90])\n",
    "print(\"Degree Values:\", deg)\n",
    "print()\n",
    "rad = np.deg2rad(deg)\n",
    "print(\"Radians Values:\", rad)\n"
   ]
  },
  {
   "cell_type": "markdown",
   "id": "5ac3679e-b63b-4299-a34e-8594fc72ed05",
   "metadata": {},
   "source": [
    "# **04. Convert Radians to Degrees**\n",
    "\n",
    "To convert radians to degrees, use:"
   ]
  },
  {
   "cell_type": "markdown",
   "id": "f8389556-67f6-44ee-baf9-ce0a55d06683",
   "metadata": {},
   "source": [
    "**Formula**\n",
    "\n",
    "***degrees = radians × (180 / π)***"
   ]
  },
  {
   "cell_type": "markdown",
   "id": "9da73756-1423-4cfe-81a8-b1e4235e50f4",
   "metadata": {},
   "source": [
    "**Example 01:**\n"
   ]
  },
  {
   "cell_type": "code",
   "execution_count": 80,
   "id": "d8015e58-ff48-48f4-9217-9c87f2973211",
   "metadata": {},
   "outputs": [
    {
     "name": "stdout",
     "output_type": "stream",
     "text": [
      "0 radians in degrees: 0.0\n"
     ]
    }
   ],
   "source": [
    "import numpy as np\n",
    "rad = 0\n",
    "deg = np.rad2deg(rad)\n",
    "print(\"0 radians in degrees:\", deg)\n"
   ]
  },
  {
   "cell_type": "markdown",
   "id": "a6a736f3-cb5d-4275-916a-6a8c4f2befba",
   "metadata": {},
   "source": [
    "**Example 02:**\n"
   ]
  },
  {
   "cell_type": "code",
   "execution_count": 84,
   "id": "fc09bed1-637f-46ce-866f-723a91480b31",
   "metadata": {},
   "outputs": [
    {
     "name": "stdout",
     "output_type": "stream",
     "text": [
      "pi/6 radians in degrees: 29.999999999999996\n"
     ]
    }
   ],
   "source": [
    "import numpy as np\n",
    "rad = np.pi/6\n",
    "deg = np.rad2deg(rad)\n",
    "print(\"pi/6 radians in degrees:\", deg)\n"
   ]
  },
  {
   "cell_type": "markdown",
   "id": "891ee788-29f3-4ea4-a194-fb7d75a0e0f7",
   "metadata": {},
   "source": [
    "**Example 03:**\n"
   ]
  },
  {
   "cell_type": "code",
   "execution_count": 88,
   "id": "5a547e26-32bf-4b7c-8775-607710204199",
   "metadata": {},
   "outputs": [
    {
     "name": "stdout",
     "output_type": "stream",
     "text": [
      "3*pi/2 radians in degrees: 270.0\n"
     ]
    }
   ],
   "source": [
    "import numpy as np\n",
    "rad = 3*np.pi/2\n",
    "deg = np.rad2deg(rad)\n",
    "print(\"3*pi/2 radians in degrees:\", deg)\n"
   ]
  },
  {
   "cell_type": "markdown",
   "id": "e18fdb52-56c8-4a9f-ad4e-e24607355411",
   "metadata": {},
   "source": [
    "**Example 04:**\n"
   ]
  },
  {
   "cell_type": "code",
   "execution_count": 92,
   "id": "f254a708-d20a-498a-bf60-37c4e7d59674",
   "metadata": {},
   "outputs": [
    {
     "name": "stdout",
     "output_type": "stream",
     "text": [
      "-pi/6 radians in degrees: -29.999999999999996\n"
     ]
    }
   ],
   "source": [
    "import numpy as np\n",
    "rad = -np.pi/6\n",
    "deg = np.rad2deg(rad)\n",
    "print(\"-pi/6 radians in degrees:\", deg)\n"
   ]
  },
  {
   "cell_type": "markdown",
   "id": "4273789a-449e-4cdd-a3d2-89e1a4a6c528",
   "metadata": {},
   "source": [
    "**Example 05:**"
   ]
  },
  {
   "cell_type": "code",
   "execution_count": 96,
   "id": "1eb98b4d-2df5-41b8-b3cc-d6eb7b9f5e98",
   "metadata": {},
   "outputs": [
    {
     "name": "stdout",
     "output_type": "stream",
     "text": [
      "Radians in degrees: [90. 60. 45.]\n"
     ]
    }
   ],
   "source": [
    "import numpy as np\n",
    "rad = np.array([np.pi/2, np.pi/3, np.pi/4])\n",
    "deg = np.rad2deg(rad)\n",
    "print(\"Radians in degrees:\", deg)\n"
   ]
  },
  {
   "cell_type": "code",
   "execution_count": null,
   "id": "2ad00af8-0346-4a31-bedf-576f543df0a8",
   "metadata": {},
   "outputs": [],
   "source": []
  },
  {
   "cell_type": "code",
   "execution_count": null,
   "id": "d99e4d5c-4c4c-4ec3-bc71-53a01e93fcec",
   "metadata": {},
   "outputs": [],
   "source": []
  }
 ],
 "metadata": {
  "kernelspec": {
   "display_name": "Python 3 (ipykernel)",
   "language": "python",
   "name": "python3"
  },
  "language_info": {
   "codemirror_mode": {
    "name": "ipython",
    "version": 3
   },
   "file_extension": ".py",
   "mimetype": "text/x-python",
   "name": "python",
   "nbconvert_exporter": "python",
   "pygments_lexer": "ipython3",
   "version": "3.12.4"
  }
 },
 "nbformat": 4,
 "nbformat_minor": 5
}
