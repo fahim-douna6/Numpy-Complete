{
 "cells": [
  {
   "cell_type": "markdown",
   "id": "158f22ea-e951-4531-9b6e-4c688686f113",
   "metadata": {},
   "source": [
    "# **Numpy Array Reshaping And Searching**"
   ]
  },
  {
   "cell_type": "markdown",
   "id": "ad452349-3695-47f2-824c-a9872f4d3a63",
   "metadata": {},
   "source": [
    "# 1. What is Reshape in NumPy\n",
    "\n",
    "The reshape function in NumPy allows you to give a new shape to an array without changing its data. It returns a new array with the same data but a different shape.\n",
    "\n",
    "This functionality is particularly useful when working with different dimensions of data, like transforming a 1D array into a 2D array or reshaping a 3D array into a 2D array."
   ]
  },
  {
   "cell_type": "markdown",
   "id": "e98e61dc-3617-46f9-9c79-62c313712079",
   "metadata": {},
   "source": [
    "**NumPy** is a popular Python library used for numerical computing. It provides powerful tools for array manipulation, including reshaping an array. Reshaping is the process of changing the shape or dimensions of an existing array without changing the data within it.\n",
    "\n",
    "Syntax for Reshaping a NumPy Array"
   ]
  },
  {
   "cell_type": "markdown",
   "id": "b403d069-7a24-4711-baa7-a8f3d07fb769",
   "metadata": {},
   "source": [
    "***new_arr = arr.reshape(new_shape)***\n"
   ]
  },
  {
   "cell_type": "markdown",
   "id": "de2a8d96-95a8-4d65-901a-fc4a47305d69",
   "metadata": {},
   "source": [
    "**arr:** The original NumPy array to be reshaped.\n",
    "\n",
    "**new_shape:** A tuple indicating the new shape of the array.\n",
    "\n",
    "**Example:** Reshaping a NumPy Array\n",
    "Suppose we have a NumPy array arr with shape (3, 4):"
   ]
  },
  {
   "cell_type": "code",
   "execution_count": 12,
   "id": "5721443e-80ce-4980-a060-09cbf47296cb",
   "metadata": {},
   "outputs": [
    {
     "name": "stdout",
     "output_type": "stream",
     "text": [
      "Original array:\n",
      " [[ 1  2  3  4]\n",
      " [ 5  6  7  8]\n",
      " [ 9 10 11 12]]\n",
      "Reshaped array:\n",
      " [[ 1  2  3]\n",
      " [ 4  5  6]\n",
      " [ 7  8  9]\n",
      " [10 11 12]]\n"
     ]
    }
   ],
   "source": [
    "import numpy as np\n",
    "\n",
    "arr = np.array([[1, 2, 3, 4], \n",
    "                [5, 6, 7, 8], \n",
    "                [9, 10, 11, 12]])\n",
    "\n",
    "new_arr = arr.reshape((4, 3))\n",
    "\n",
    "print(\"Original array:\\n\", arr)\n",
    "print(\"Reshaped array:\\n\", new_arr)\n"
   ]
  },
  {
   "cell_type": "markdown",
   "id": "f37b9223-005f-440e-8d09-a9dc4059bc09",
   "metadata": {},
   "source": [
    "**Explanation:**\n",
    "\n",
    "The reshape() method is used to change the shape of arr from (3, 4) to (4, 3).\n",
    "    \n",
    "    The total number of elements remains the same (12 elements)."
   ]
  },
  {
   "cell_type": "markdown",
   "id": "7786f974-b4ef-4153-9d42-b996796cc4a1",
   "metadata": {},
   "source": [
    "# Key Points of Reshaping \n",
    "**Compatibility of Shapes:** When reshaping an array, the total number of elements must remain the same. For example, a (3, 4) array with 12 elements can be reshaped into (4, 3) because both shapes contain 12 elements.\n",
    "\n",
    "**New Shape as Tuple:** The new shape is specified as a tuple. For example, (4, 3) means 4 rows and 3 columns.\n",
    "\n",
    "**In-Place or New Array:** The reshape() method returns a new array with the new shape, and it does not modify the original array.\n",
    "\n",
    "   # **Additional Methods for Reshaping Arrays**\n",
    "**flatten():** Returns a 1D copy of the array, collapsing all dimensions.\n",
    "\n",
    "**ravel():** Returns a flattened 1D array, similar to flatten(), but may not create a copy if possible.\n",
    "\n",
    "**transpose():** Transposes the array, swapping rows with columns."
   ]
  },
  {
   "cell_type": "markdown",
   "id": "b4d35b4d-368e-4cde-96b1-1af39318164e",
   "metadata": {},
   "source": [
    "**1. Reshaping One-Dimensional Arrays**\n",
    "    \n",
    "Example 1: Reshaping to 2D Array"
   ]
  },
  {
   "cell_type": "code",
   "execution_count": 19,
   "id": "a278bab9-1f48-45c4-93ab-b50f5fe720a5",
   "metadata": {},
   "outputs": [
    {
     "name": "stdout",
     "output_type": "stream",
     "text": [
      "Output Reshape:\n",
      " [[ 1  2  3]\n",
      " [ 4  5  6]\n",
      " [ 7  8  9]\n",
      " [10 11 12]]\n"
     ]
    }
   ],
   "source": [
    "import numpy as np\n",
    "\n",
    "arr = np.array([1, 2, 3, 4, 5, 6, 7, 8, 9, 10, 11, 12])\n",
    "newarr = arr.reshape(4, 3)\n",
    "\n",
    "print(\"Output Reshape:\\n\", newarr)\n"
   ]
  },
  {
   "cell_type": "markdown",
   "id": "74506edf-5bb4-4e76-92be-9388320f9b76",
   "metadata": {},
   "source": [
    "**Explanation:**\n",
    "\n",
    "The one-dimensional array arr is reshaped into a two-dimensional array with 4 rows and 3 columns."
   ]
  },
  {
   "cell_type": "markdown",
   "id": "f7d87d29-1280-4b8e-a912-ccf5bff29479",
   "metadata": {},
   "source": [
    "**Example 2: Reshaping to 3D Array**\n"
   ]
  },
  {
   "cell_type": "code",
   "execution_count": 27,
   "id": "b83afdb1-49f0-4e3c-98e7-a54f90b69e6e",
   "metadata": {},
   "outputs": [
    {
     "name": "stdout",
     "output_type": "stream",
     "text": [
      "Output Reshape:\n",
      " [[[ 1  2]\n",
      "  [ 3  4]\n",
      "  [ 5  6]]\n",
      "\n",
      " [[ 7  8]\n",
      "  [ 9 10]\n",
      "  [11 12]]]\n",
      "\n",
      "Number of dimensions: 3\n"
     ]
    }
   ],
   "source": [
    "import numpy as np\n",
    "\n",
    "a = np.array([1, 2, 3, 4, 5, 6, 7, 8, 9, 10, 11, 12])\n",
    "b = a.reshape(2, 3, 2)\n",
    "\n",
    "print(\"Output Reshape:\\n\", b)\n",
    "print(\"\\nNumber of dimensions:\", np.ndim(b))\n"
   ]
  },
  {
   "cell_type": "markdown",
   "id": "d1340295-c227-4e69-bbb9-364581d087b3",
   "metadata": {},
   "source": [
    "**Explanation:**\n",
    "\n",
    "The one-dimensional array a is reshaped into a three-dimensional array with 2 layers, 3 rows, and 2 columns. The total number of elements (12) remains the same."
   ]
  },
  {
   "cell_type": "markdown",
   "id": "34eaa43a-566c-4caf-87f2-0121a4c44559",
   "metadata": {},
   "source": [
    "**2. Reshaping Two-Dimensional Arrays**\n"
   ]
  },
  {
   "cell_type": "markdown",
   "id": "da7c7f75-eb3c-4556-9b1b-e900f93253c1",
   "metadata": {},
   "source": [
    "**Example 1: Changing Number of Rows and Columns**\n"
   ]
  },
  {
   "cell_type": "code",
   "execution_count": 40,
   "id": "ae3e22c3-a586-4efe-b83a-8d030c7161c2",
   "metadata": {},
   "outputs": [
    {
     "name": "stdout",
     "output_type": "stream",
     "text": [
      "Output:\n",
      " [[ 1  2]\n",
      " [ 3  4]\n",
      " [ 5  6]\n",
      " [ 7  8]\n",
      " [ 9 10]\n",
      " [11 12]]\n"
     ]
    }
   ],
   "source": [
    "import numpy as np\n",
    "\n",
    "a = np.array([[1, 2, 3, 4],\n",
    "              [5, 6, 7, 8],\n",
    "              [9, 10, 11, 12]])\n",
    "\n",
    "b = a.reshape(6, 2)\n",
    "\n",
    "print(\"Output:\\n\", b)\n"
   ]
  },
  {
   "cell_type": "markdown",
   "id": "9f7bfc9d-37d1-4df6-a4d8-2ed8b33df312",
   "metadata": {},
   "source": [
    "**Explanation:**\n",
    "\n",
    "The original 2D array a with shape (3, 4) is reshaped into a (6, 2) array, where the total number of elements (12) is preserved.\n"
   ]
  },
  {
   "cell_type": "markdown",
   "id": "bef9ef67-2dd4-4c9b-8afc-de6cc8818981",
   "metadata": {},
   "source": [
    "**Example 2: Reshaping to 3D Array**\n"
   ]
  },
  {
   "cell_type": "code",
   "execution_count": 45,
   "id": "f704a264-571d-4d2d-9c4e-68cd052ebd2f",
   "metadata": {},
   "outputs": [
    {
     "name": "stdout",
     "output_type": "stream",
     "text": [
      "Original array:\n",
      " [[ 1  2  3  4]\n",
      " [ 5  6  7  8]\n",
      " [ 9 10 11 12]\n",
      " [13 14 15 16]\n",
      " [17 18 19 20]\n",
      " [21 22 23 24]]\n",
      "\n",
      "Reshaped array:\n",
      " [[[ 1  2  3  4]\n",
      "  [ 5  6  7  8]\n",
      "  [ 9 10 11 12]]\n",
      "\n",
      " [[13 14 15 16]\n",
      "  [17 18 19 20]\n",
      "  [21 22 23 24]]]\n"
     ]
    }
   ],
   "source": [
    "a = np.array([[1, 2, 3, 4],\n",
    "              [5, 6, 7, 8],\n",
    "              [9, 10, 11, 12],\n",
    "              [13, 14, 15, 16],\n",
    "              [17, 18, 19, 20],\n",
    "              [21, 22, 23, 24]])\n",
    "\n",
    "b = a.reshape(2, 3, 4)\n",
    "\n",
    "print(\"Original array:\\n\", a)\n",
    "print(\"\\nReshaped array:\\n\", b)\n"
   ]
  },
  {
   "cell_type": "markdown",
   "id": "892ae409-6bb1-4d91-bc94-ffabf168fc2e",
   "metadata": {},
   "source": [
    "**Explanation:**\n",
    "\n",
    "A 2D array a is reshaped into a 3D array b with 2 layers, 3 rows, and 4 columns, ensuring the total number of elements (24) remains unchanged.\n"
   ]
  },
  {
   "cell_type": "markdown",
   "id": "4df84274-c40b-44d7-b27a-8eec26fe568b",
   "metadata": {},
   "source": [
    "**3. Reshaping Three-Dimensional Arrays**\n",
    "\n",
    "**Example 1: Reducing Dimensions**"
   ]
  },
  {
   "cell_type": "code",
   "execution_count": 50,
   "id": "50fe3a62-a13b-4f3c-a455-0fa026d710f4",
   "metadata": {},
   "outputs": [
    {
     "name": "stdout",
     "output_type": "stream",
     "text": [
      "Original Array:\n",
      " [[[ 1  2  3  4]\n",
      "  [ 5  6  7  8]\n",
      "  [ 9 10 11 12]]\n",
      "\n",
      " [[13 14 15 16]\n",
      "  [17 18 19 20]\n",
      "  [21 22 23 24]]]\n",
      "\n",
      "Reshaped Array:\n",
      " [[ 1  2  3  4]\n",
      " [ 5  6  7  8]\n",
      " [ 9 10 11 12]\n",
      " [13 14 15 16]\n",
      " [17 18 19 20]\n",
      " [21 22 23 24]]\n"
     ]
    }
   ],
   "source": [
    "import numpy as np\n",
    "\n",
    "a = np.array([[[1, 2, 3, 4],\n",
    "               [5, 6, 7, 8],\n",
    "               [9, 10, 11, 12]],\n",
    "              [[13, 14, 15, 16],\n",
    "               [17, 18, 19, 20],\n",
    "               [21, 22, 23, 24]]])\n",
    "\n",
    "b = a.reshape(6, 4)\n",
    "\n",
    "print(\"Original Array:\\n\", a)\n",
    "print(\"\\nReshaped Array:\\n\", b)\n"
   ]
  },
  {
   "cell_type": "markdown",
   "id": "3bb8623c-adf8-4015-ae87-21687ee3c8cb",
   "metadata": {},
   "source": [
    "**Explanation:**\n",
    "\n",
    "The 3D array a is reshaped into a 2D array b with 6 rows and 4 columns, preserving the total number of elements (24).\n"
   ]
  },
  {
   "cell_type": "markdown",
   "id": "a62b4cc2-a62b-4c5e-a049-6c3fd30b5d29",
   "metadata": {},
   "source": [
    "**Example 2: Flattening to a Single Row**"
   ]
  },
  {
   "cell_type": "code",
   "execution_count": 56,
   "id": "86b27094-e983-4844-8760-e180a30537dd",
   "metadata": {},
   "outputs": [
    {
     "name": "stdout",
     "output_type": "stream",
     "text": [
      "Original Array:\n",
      " [[[ 1  2  3  4]\n",
      "  [ 5  6  7  8]\n",
      "  [ 9 10 11 12]]\n",
      "\n",
      " [[13 14 15 16]\n",
      "  [17 18 19 20]\n",
      "  [21 22 23 24]]]\n",
      "\n",
      "Reshaped Array:\n",
      " [[ 1  2  3  4  5  6  7  8  9 10 11 12 13 14 15 16 17 18 19 20 21 22 23 24]]\n"
     ]
    }
   ],
   "source": [
    "a = np.array([[[1, 2, 3, 4],\n",
    "               [5, 6, 7, 8],\n",
    "               [9, 10, 11, 12]],\n",
    "              [[13, 14, 15, 16],\n",
    "               [17, 18, 19, 20],\n",
    "               [21, 22, 23, 24]]])\n",
    "\n",
    "b = a.reshape(1, 24)\n",
    "\n",
    "print(\"Original Array:\\n\", a)\n",
    "print(\"\\nReshaped Array:\\n\", b)\n"
   ]
  },
  {
   "cell_type": "markdown",
   "id": "0811e885-ab5b-4073-bbde-a1f4b6492bdb",
   "metadata": {},
   "source": [
    "**Explanation:**\n",
    "\n",
    "The 3D array a is reshaped into a 2D array b with 1 row and 24 columns, effectively flattening the array into a single row.\n"
   ]
  },
  {
   "cell_type": "markdown",
   "id": "794b60ea-5f10-4ce6-a707-ae64c2bc7076",
   "metadata": {},
   "source": [
    "**Conclusion**\n",
    "\n",
    "Reshaping is a flexible and powerful way to manipulate arrays for data processing and analysis.\n",
    "\n",
    "    The shape of the new array must have the same total number of elements as the original array.\n",
    "\n",
    "    Reshaping can help in organizing data into different dimensions for various computational needs."
   ]
  },
  {
   "cell_type": "markdown",
   "id": "c72ff8cd-e879-4ae1-a493-e0800a936678",
   "metadata": {},
   "source": [
    "# **2. NumPy Searching Arrays**"
   ]
  },
  {
   "cell_type": "markdown",
   "id": "5d1567bd-16da-4793-a8e3-9f055d5619da",
   "metadata": {},
   "source": [
    "Searching for specific elements or values in an array is a common operation in data analysis and manipulation. NumPy provides several functions for searching arrays, which allow users to locate elements based on specific criteria or conditions. This introduction will focus on the following functions:\n",
    "\n",
    "np.where(): Finds indices of elements that satisfy a given condition.\n",
    "    \n",
    "np.searchsorted(): Finds indices where elements should be inserted to maintain order.\n",
    "\n",
    "np.argmin(), np.argmax(), and np.nonzero(): Find indices of minimum, maximum, and non-zero elements.\n",
    "# 1. numpy.where() Function\n",
    "The **numpy.where()** function is used to find the indices of elements in an array that satisfy a specific condition. This function can be very useful for filtering arrays based on conditions or extracting specific elements.\n",
    "\n",
    "\n",
    "Example 01: Find the indices where the value is 4\n"
   ]
  },
  {
   "cell_type": "code",
   "execution_count": 12,
   "id": "57292623-2261-4868-a3f4-5be14126bb64",
   "metadata": {},
   "outputs": [
    {
     "name": "stdout",
     "output_type": "stream",
     "text": [
      "(array([3, 5, 6], dtype=int64),)\n"
     ]
    }
   ],
   "source": [
    "import numpy as np\n",
    "\n",
    "# Creating a NumPy array\n",
    "arr = np.array([1, 2, 3, 4, 5, 4, 4])\n",
    "\n",
    "# Using np.where() to find indices where the array element equals 4\n",
    "x = np.where(arr == 4)\n",
    "\n",
    "# Output the result\n",
    "print(x)\n"
   ]
  },
  {
   "cell_type": "markdown",
   "id": "85a2a053-dd59-4332-9c1e-bdfebc87157f",
   "metadata": {},
   "source": [
    "**Explanation:**\n",
    "\n",
    "import numpy as np: Imports the NumPy library and aliases it as np.\n",
    "\n",
    "arr = np.array([1, 2, 3, 4, 5, 4, 4]): Creates a NumPy array with specific values.\n",
    "\n",
    "    x = np.where(arr == 4): Uses the np.where() function to find the indices where the element equals 4.\n",
    "\n",
    "print(x): Prints the indices where the condition is met. Expected output: (array([3, 5, 6]),), indicating the positions of value 4.\n"
   ]
  },
  {
   "cell_type": "markdown",
   "id": "758d4bb4-4d42-4b27-9511-d90ebe7278a4",
   "metadata": {},
   "source": [
    "**Example 02: Find the indices where the values are even**"
   ]
  },
  {
   "cell_type": "code",
   "execution_count": 18,
   "id": "b803a909-a974-4c9c-9255-53d861b01343",
   "metadata": {},
   "outputs": [
    {
     "name": "stdout",
     "output_type": "stream",
     "text": [
      "(array([1, 3, 5, 7], dtype=int64),)\n"
     ]
    }
   ],
   "source": [
    "import numpy as np\n",
    "\n",
    "# Creating a NumPy array\n",
    "arr = np.array([1, 2, 3, 4, 5, 6, 7, 8])\n",
    "\n",
    "# Using np.where() to find indices where elements are even\n",
    "x = np.where(arr % 2 == 0)\n",
    "\n",
    "# Output the result\n",
    "print(x)\n"
   ]
  },
  {
   "cell_type": "markdown",
   "id": "76de137e-b388-4f0a-9f2a-2aaa084264cc",
   "metadata": {},
   "source": [
    "**Explanation:**\n",
    "\n",
    "arr = np.array([1, 2, 3, 4, 5, 6, 7, 8]): Creates an array of integers.\n",
    "\n",
    "    x = np.where(arr % 2 == 0): Checks for even numbers (remainder of division by 2 is zero).\n",
    "\n",
    "print(x): Prints indices of even numbers. Expected output: (array([1, 3, 5, 7]),)."
   ]
  },
  {
   "cell_type": "markdown",
   "id": "67a772e9-82e2-4f8d-913d-57e6d23d56dd",
   "metadata": {},
   "source": [
    "**Example 03: Find the indices where the values are odd**"
   ]
  },
  {
   "cell_type": "code",
   "execution_count": 28,
   "id": "f124c63c-0217-4fb7-9e53-107e835157a5",
   "metadata": {},
   "outputs": [
    {
     "name": "stdout",
     "output_type": "stream",
     "text": [
      "(array([0, 2, 4, 6], dtype=int64),)\n"
     ]
    }
   ],
   "source": [
    "import numpy as np\n",
    "\n",
    "# Creating a NumPy array\n",
    "arr = np.array([1, 2, 3, 4, 5, 6, 7, 8])\n",
    "\n",
    "# Using np.where() to find indices where elements are odd\n",
    "x = np.where(arr % 2 == 1)\n",
    "\n",
    "# Output the result\n",
    "print(x)\n"
   ]
  },
  {
   "cell_type": "markdown",
   "id": "02925013-67d0-4b9c-9784-cd883f6f5570",
   "metadata": {},
   "source": [
    "**Explanation:**\n",
    "\n",
    "x = np.where(arr % 2 == 1): Finds indices of odd numbers (remainder of division by 2 is one).\n",
    "\n",
    "print(x): Prints indices of odd numbers. Expected output: (array([0, 2, 4, 6]),)."
   ]
  },
  {
   "cell_type": "markdown",
   "id": "eb5f4ae7-53f2-4b75-84aa-7d49418a6590",
   "metadata": {},
   "source": [
    "**Example 04: Find the indices of all elements in a 2-dimensional array where the value is 3**"
   ]
  },
  {
   "cell_type": "code",
   "execution_count": 34,
   "id": "f8f51cf1-6904-413b-b819-866a6ee85d01",
   "metadata": {},
   "outputs": [
    {
     "name": "stdout",
     "output_type": "stream",
     "text": [
      "Original array: [[1 2 3]\n",
      " [3 5 6]]\n",
      "\n",
      "(array([0, 1], dtype=int64), array([2, 0], dtype=int64))\n"
     ]
    }
   ],
   "source": [
    "import numpy as np\n",
    "\n",
    "# Creating a 2D NumPy array\n",
    "arr = np.array([[1, 2, 3], [3, 5, 6]])\n",
    "\n",
    "# Display the original array\n",
    "print(\"Original array:\", arr)\n",
    "print()\n",
    "\n",
    "# Using np.where() to find indices where elements equal 3\n",
    "idx = np.where(arr == 3)\n",
    "\n",
    "# Output the result\n",
    "print(idx)\n"
   ]
  },
  {
   "cell_type": "markdown",
   "id": "32d59cea-e9fd-47c9-b121-8f9eaa3fd204",
   "metadata": {},
   "source": [
    "**Explanation:**\n",
    "\n",
    "arr = np.array([[1, 2, 3], [3, 5, 6]]): Creates a 2D array.\n",
    "    \n",
    "print(\"Original array:\", arr): Prints the original array.\n",
    "\n",
    "idx = np.where(arr == 3): Finds indices of elements equal to 3.\n",
    "\n",
    "    print(idx): Prints indices of the value 3. Expected output: (array([0, 1]), array([2, 0])), indicating positions (0, 2) and (1, 0).\n"
   ]
  },
  {
   "cell_type": "markdown",
   "id": "95989048-4991-43c0-8615-8d03b07148b1",
   "metadata": {},
   "source": [
    "**Example 05: Find the indices of all elements in a 2-dimensional array where the values are even**"
   ]
  },
  {
   "cell_type": "code",
   "execution_count": 44,
   "id": "beeb12c7-cd7e-4356-b3f9-3c05c54ba441",
   "metadata": {},
   "outputs": [
    {
     "name": "stdout",
     "output_type": "stream",
     "text": [
      "(array([0, 1], dtype=int64), array([1, 2], dtype=int64))\n"
     ]
    }
   ],
   "source": [
    "import numpy as np\n",
    "\n",
    "# Creating a 2D NumPy array\n",
    "arr = np.array([[1, 2, 3], [3, 5, 6]])\n",
    "\n",
    "# Using np.where() to find indices where elements are even\n",
    "idx = np.where(arr % 2 == 0)\n",
    "\n",
    "# Output the result\n",
    "print(idx)\n"
   ]
  },
  {
   "cell_type": "markdown",
   "id": "79d9fb88-23fd-4ea5-90fb-f332b9b16a0f",
   "metadata": {},
   "source": [
    "**Explanation:**\n",
    "\n",
    "idx = np.where(arr % 2 == 0): Finds indices of even elements.\n",
    "\n",
    "    print(idx): Prints indices of even elements. Expected output: (array([0, 1]), array([1, 2])), indicating positions (0, 1) and (1, 2).\n"
   ]
  },
  {
   "cell_type": "markdown",
   "id": "f6024657-d564-4247-8060-d349a02f6b01",
   "metadata": {},
   "source": [
    "**Example 06: Find the indices of all elements in a 2-dimensional array that are greater than a given value**"
   ]
  },
  {
   "cell_type": "code",
   "execution_count": 48,
   "id": "b62aef18-5f65-437b-88f2-1d8b52c9aa31",
   "metadata": {},
   "outputs": [
    {
     "name": "stdout",
     "output_type": "stream",
     "text": [
      "Original array: [[1 2 3]\n",
      " [4 5 6]]\n",
      "\n",
      "(array([1, 1, 1], dtype=int64), array([0, 1, 2], dtype=int64))\n"
     ]
    }
   ],
   "source": [
    "import numpy as np\n",
    "\n",
    "# Creating a 2D NumPy array\n",
    "arr = np.array([[1, 2, 3], [4, 5, 6]])\n",
    "\n",
    "# Display the original array\n",
    "print(\"Original array:\", arr)\n",
    "print()\n",
    "\n",
    "# Using np.where() to find indices where elements are greater than 3\n",
    "idx = np.where(arr > 3)\n",
    "\n",
    "# Output the result\n",
    "print(idx)\n"
   ]
  },
  {
   "cell_type": "markdown",
   "id": "a864f29f-f6ae-444c-b9ae-89c082e8edd5",
   "metadata": {},
   "source": [
    "**Explanation:**\n",
    "\n",
    "arr = np.array([[1, 2, 3], [4, 5, 6]]): Creates a 2D array.\n",
    "\n",
    "    idx = np.where(arr > 3): Finds indices of elements greater than 3.\n",
    "\n",
    "    print(idx): Prints indices of elements greater than 3. Expected output: (array([1, 1, 1]), array([0, 1, 2])), indicating positions (1, 0), (1, 1), and (1, 2).\n"
   ]
  },
  {
   "cell_type": "markdown",
   "id": "ff7d8444-05dd-4b69-86e4-436b50bad77e",
   "metadata": {},
   "source": [
    "**Example 07: Find the indices of all elements in a 2-dimensional array that are less than a given value**"
   ]
  },
  {
   "cell_type": "code",
   "execution_count": 52,
   "id": "beb78edc-f498-42ec-9a72-9f54e7a5fca9",
   "metadata": {},
   "outputs": [
    {
     "name": "stdout",
     "output_type": "stream",
     "text": [
      "Original array: [[1 2 3]\n",
      " [4 5 6]]\n",
      "\n",
      "(array([0, 0], dtype=int64), array([0, 1], dtype=int64))\n"
     ]
    }
   ],
   "source": [
    "import numpy as np\n",
    "\n",
    "# Creating a 2D NumPy array\n",
    "arr = np.array([[1, 2, 3], [4, 5, 6]])\n",
    "\n",
    "# Display the original array\n",
    "print(\"Original array:\", arr)\n",
    "print()\n",
    "\n",
    "# Using np.where() to find indices where elements are less than 3\n",
    "idx = np.where(arr < 3)\n",
    "\n",
    "# Output the result\n",
    "print(idx)\n"
   ]
  },
  {
   "cell_type": "markdown",
   "id": "209132a2-4fe4-40c8-9790-919e9cd03b39",
   "metadata": {},
   "source": [
    "**Explanation:**\n",
    "\n",
    "idx = np.where(arr < 3): Finds indices of elements less than 3.\n",
    "\n",
    "    print(idx): Prints indices of elements less than 3. Expected output: (array([0, 0]), array([0, 1])), indicating positions (0, 0) and (0, 1).\n"
   ]
  },
  {
   "cell_type": "markdown",
   "id": "b2c78720-f272-47d5-b335-f94cf8d118c1",
   "metadata": {},
   "source": [
    "# 2.  numpy.searchsorted()\n",
    "The **numpy.searchsorted()** function is used to find indices where elements should be inserted to maintain order in a sorted array. This is particularly useful for finding the insertion point of a new element.\n",
    "\n"
   ]
  },
  {
   "cell_type": "markdown",
   "id": "ad6ba281-f8ac-4148-8781-3ab90bd31a9e",
   "metadata": {},
   "source": [
    "# 3. np.argmin(), np.argmax(), and np.nonzero()\n",
    "These functions return indices of minimum, maximum, and non-zero elements in an array. They are used for finding specific elements in an array, which is useful in optimization and filtering tasks.\n",
    "\n"
   ]
  },
  {
   "cell_type": "code",
   "execution_count": null,
   "id": "8bf205e5-069b-466d-8641-8b9f5f3ef68c",
   "metadata": {},
   "outputs": [],
   "source": []
  },
  {
   "cell_type": "markdown",
   "id": "0245fcfa-c75b-4043-b44c-736ca07c9cc9",
   "metadata": {},
   "source": [
    "These are the basic searching functions in NumPy that help in finding and manipulating specific elements based on conditions. Let me know if you would like to see examples or explanations for numpy.searchsorted(), np.argmin(), np.argmax(), and np.nonzero() functions as well!"
   ]
  },
  {
   "cell_type": "code",
   "execution_count": null,
   "id": "a7d34b70-c3bd-47d5-b990-38bacc2e715c",
   "metadata": {},
   "outputs": [],
   "source": []
  }
 ],
 "metadata": {
  "kernelspec": {
   "display_name": "Python 3 (ipykernel)",
   "language": "python",
   "name": "python3"
  },
  "language_info": {
   "codemirror_mode": {
    "name": "ipython",
    "version": 3
   },
   "file_extension": ".py",
   "mimetype": "text/x-python",
   "name": "python",
   "nbconvert_exporter": "python",
   "pygments_lexer": "ipython3",
   "version": "3.12.4"
  }
 },
 "nbformat": 4,
 "nbformat_minor": 5
}
