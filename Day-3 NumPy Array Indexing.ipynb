{
 "cells": [
  {
   "cell_type": "markdown",
   "id": "c956eb0e-984b-4fdf-a5da-d826d1513ca0",
   "metadata": {},
   "source": [
    "# **Day-03 NumPy Array Indexing**"
   ]
  },
  {
   "cell_type": "markdown",
   "id": "db2e5c13-7086-40cb-a074-96c11ce09a32",
   "metadata": {},
   "source": [
    "**Array indexing** refers to the way in which elements of an array are selected and manipulated. In NumPy, arrays can be indexed using various methods, such as slicing, fancy indexing, and boolean indexing.\n",
    "\n",
    "\n",
    "**Slicing** involves selecting a range of elements from an array.\n",
    "**Fancy indexing** allows you to select elements using a list or array of indices.\n",
    "**Boolean indexing** involves selecting elements based on a condition or logical expression.\n",
    "NumPy array indexing can be used for a wide range of tasks, such as filtering data, selecting specific elements from an array, and performing mathematical operations on subsets of an array. With its efficient array indexing capabilities, NumPy is an essential tool for many scientific and data analysis applications in Python.\n",
    "\n",
    "# Examples of NumPy Array Indexing\n",
    "**1. Indexing a One-Dimensional Array**\n",
    "\n",
    "\n",
    "Example:"
   ]
  },
  {
   "cell_type": "code",
   "execution_count": 5,
   "id": "d6ff2b3b-d20f-49ab-95fa-cd5d6ad5469d",
   "metadata": {},
   "outputs": [
    {
     "name": "stdout",
     "output_type": "stream",
     "text": [
      "output: 3\n"
     ]
    }
   ],
   "source": [
    "import numpy as np\n",
    "a = np.array([1, 2, 3, 4])\n",
    "print(\"output:\", a[2])\n"
   ]
  },
  {
   "cell_type": "markdown",
   "id": "d4ece359-9479-4030-87a8-47522bd76703",
   "metadata": {},
   "source": [
    "**Explanation:**\n",
    "\n",
    "The code creates a NumPy array a with the values [1, 2, 3, 4]. It then uses indexing to select the element at index 2 of the array, which is the value 3. When executed, it prints 3 to the console."
   ]
  },
  {
   "cell_type": "markdown",
   "id": "3e08885b-80fd-4f91-a9af-11c9ecfe2baa",
   "metadata": {},
   "source": [
    "**2. Indexing a Two-Dimensional Array**\n",
    "\n",
    "Example 01:"
   ]
  },
  {
   "cell_type": "code",
   "execution_count": 9,
   "id": "6cc9b196-79a9-4fea-8558-f4a5977bd766",
   "metadata": {},
   "outputs": [
    {
     "name": "stdout",
     "output_type": "stream",
     "text": [
      "original input array: [[ 1  2  3  4  5]\n",
      " [ 6  7  8  9 10]]\n",
      "output index: 2\n"
     ]
    }
   ],
   "source": [
    "import numpy as np\n",
    "a = np.array([[1, 2, 3, 4, 5], [6, 7, 8, 9, 10]])\n",
    "print(\"original input array:\", a)\n",
    "print(\"output index:\", a[0, 1])\n"
   ]
  },
  {
   "cell_type": "markdown",
   "id": "2b6dc95e-2b24-4fe1-b0ca-e8db6d46f638",
   "metadata": {},
   "source": [
    "**Explanation:**\n",
    "This code creates a 2-dimensional NumPy array a with values [[1, 2, 3, 4, 5], [6, 7, 8, 9, 10]]. The indexing operation a[0, 1] selects the element at row 0 and column 1 of the array, which is the value 2.\n",
    "\n",
    "    \n",
    "Example 02:"
   ]
  },
  {
   "cell_type": "code",
   "execution_count": 12,
   "id": "1d559ec7-a467-49c9-a8bb-a4f3c0173eec",
   "metadata": {},
   "outputs": [
    {
     "name": "stdout",
     "output_type": "stream",
     "text": [
      "original input array: [[ 1  2  3  4  5]\n",
      " [ 6  7  8  9 10]\n",
      " [11 12 13 14 15]]\n",
      "output index: 2\n"
     ]
    }
   ],
   "source": [
    "a = np.array([[1, 2, 3, 4, 5], [6, 7, 8, 9, 10], [11, 12, 13, 14, 15]])\n",
    "print(\"original input array:\", a)\n",
    "print(\"output index:\", a[0, 1])\n"
   ]
  },
  {
   "cell_type": "markdown",
   "id": "80105a6c-a377-4233-ad62-1dab1640a26f",
   "metadata": {},
   "source": [
    "**Explanation:**\n",
    "The code creates a 2-dimensional array a with dimensions 3x5 and values ranging from 1 to 15. The output shows the element at row 0 and column 1, which is 2."
   ]
  },
  {
   "cell_type": "markdown",
   "id": "db4ea827-30af-4720-8207-aa5a33933b67",
   "metadata": {},
   "source": [
    " **3. Indexing a Three-Dimensional Array**\n",
    "\n",
    "Example:"
   ]
  },
  {
   "cell_type": "code",
   "execution_count": 16,
   "id": "b09df3ee-7ce7-472a-bdb4-853059583efe",
   "metadata": {},
   "outputs": [
    {
     "name": "stdout",
     "output_type": "stream",
     "text": [
      "original input array: [[[0 1 2]\n",
      "  [3 4 5]]\n",
      "\n",
      " [[0 1 2]\n",
      "  [3 4 5]]]\n",
      "output index: [3 4 5]\n"
     ]
    }
   ],
   "source": [
    "a = np.array([[[0, 1, 2], [3, 4, 5]], [[0, 1, 2], [3, 4, 5]]])\n",
    "print(\"original input array:\", a)\n",
    "print(\"output index:\", a[0, 1])\n"
   ]
  },
  {
   "cell_type": "markdown",
   "id": "1dcef0b8-1ab4-49c8-bd5f-c043747334ee",
   "metadata": {},
   "source": [
    "**Explanation:**\n",
    "This code creates a 3-dimensional NumPy array a with shape (2, 2, 3). The indexing operation a[0, 1] selects the array [3, 4, 5] from the first 2x3 array.\n",
    "\n"
   ]
  },
  {
   "cell_type": "markdown",
   "id": "03cfe5ab-5284-4a73-acdd-37b965196169",
   "metadata": {},
   "source": [
    "**4.  Negative Indexing in One-Dimensional Array**\n",
    "\n",
    "Example:"
   ]
  },
  {
   "cell_type": "code",
   "execution_count": 22,
   "id": "a5cf1d58-594e-4843-a0bb-82b655caab74",
   "metadata": {},
   "outputs": [
    {
     "name": "stdout",
     "output_type": "stream",
     "text": [
      "output index: 3\n"
     ]
    }
   ],
   "source": [
    "a = np.array([1, 2, 3, 4])\n",
    "print(\"output index:\", a[-2])\n"
   ]
  },
  {
   "cell_type": "markdown",
   "id": "5a2321ff-80f6-4265-b1fa-bdf358cdeba9",
   "metadata": {},
   "source": [
    "**Explanation:**\n",
    "The code creates a NumPy array a with values [1, 2, 3, 4]. Using negative indexing, a[-2] selects the second-to-last element, which is 3.\n",
    "\n"
   ]
  },
  {
   "cell_type": "markdown",
   "id": "5667e67a-cf23-437b-a571-b43ddc5d074c",
   "metadata": {},
   "source": [
    "**5. Negative Indexing in Two-Dimensional Array**\n",
    "    \n",
    "Example 01:"
   ]
  },
  {
   "cell_type": "code",
   "execution_count": 25,
   "id": "86fcdf73-758e-4222-8672-86e1e68d867b",
   "metadata": {},
   "outputs": [
    {
     "name": "stdout",
     "output_type": "stream",
     "text": [
      "output index: 7\n"
     ]
    }
   ],
   "source": [
    "a = np.array([[1, 2, 3, 4, 5], [6, 7, 8, 9, 10]])\n",
    "print(\"output index:\", a[1, -4])\n"
   ]
  },
  {
   "cell_type": "markdown",
   "id": "ed983496-77e5-4061-b370-c7e018021083",
   "metadata": {},
   "source": [
    "Negative Indexing in Three-Dimensional Array\n",
    "Example:"
   ]
  },
  {
   "cell_type": "code",
   "execution_count": 30,
   "id": "049adcbc-2bf2-437d-b846-091fb6ac89b4",
   "metadata": {},
   "outputs": [
    {
     "name": "stdout",
     "output_type": "stream",
     "text": [
      "original input array: [[[0 1 2]\n",
      "  [3 4 5]]\n",
      "\n",
      " [[0 1 2]\n",
      "  [3 4 5]]]\n",
      "output index: [3 4 5]\n"
     ]
    }
   ],
   "source": [
    "a = np.array([[[0, 1, 2], [3, 4, 5]], [[0, 1, 2], [3, 4, 5]]])\n",
    "print(\"original input array:\", a)\n",
    "print(\"output index:\", a[0, -1])\n"
   ]
  },
  {
   "cell_type": "markdown",
   "id": "74f2b9a8-b19c-4b02-8b1a-6f5a6a0c3c24",
   "metadata": {},
   "source": [
    "**Summary**\n",
    "\n",
    "NumPy's powerful indexing methods enable efficient and convenient manipulation of array data, making it a valuable tool for scientific computing and data analysis in Python. Whether working with one-dimensional, two-dimensional, or multi-dimensional arrays, NumPy provides flexible and intuitive ways to access and modify array elements."
   ]
  },
  {
   "cell_type": "code",
   "execution_count": null,
   "id": "6b5c6782-428d-48de-896f-1b78b1812bab",
   "metadata": {},
   "outputs": [],
   "source": []
  }
 ],
 "metadata": {
  "kernelspec": {
   "display_name": "Python 3 (ipykernel)",
   "language": "python",
   "name": "python3"
  },
  "language_info": {
   "codemirror_mode": {
    "name": "ipython",
    "version": 3
   },
   "file_extension": ".py",
   "mimetype": "text/x-python",
   "name": "python",
   "nbconvert_exporter": "python",
   "pygments_lexer": "ipython3",
   "version": "3.12.4"
  }
 },
 "nbformat": 4,
 "nbformat_minor": 5
}
