{
 "cells": [
  {
   "cell_type": "markdown",
   "id": "846593de-99ed-4523-af71-a5fed1c85b38",
   "metadata": {},
   "source": [
    "# Statistical Functions in NumPy\n",
    "\n",
    "\n",
    "NumPy is a powerful Python library that provides numerous statistical functions to analyze and describe data efficiently. Below are detailed explanations of some of the most commonly used statistical functions:\n",
    "\n",
    "**1. numpy.mean()**\n",
    "The mean() function calculates the arithmetic mean of the data along a specified axis.\n",
    "\n",
    "**Syntax:**\n",
    "*numpy.mean(arr, axis=None)*\n"
   ]
  },
  {
   "cell_type": "markdown",
   "id": "b8ed0b87-7734-4a69-9757-ba0d4fea101b",
   "metadata": {},
   "source": [
    "**Examples:**\n",
    "  \n",
    "\n",
    "**1D Array:**"
   ]
  },
  {
   "cell_type": "code",
   "execution_count": 7,
   "id": "eaca74ae-0ead-45d2-8547-8d87c3643293",
   "metadata": {},
   "outputs": [
    {
     "name": "stdout",
     "output_type": "stream",
     "text": [
      "3.0\n"
     ]
    }
   ],
   "source": [
    "import numpy as np\n",
    "arr = np.array([1, 2, 3, 4, 5])\n",
    "print(np.mean(arr))  # Output: 3.0\n"
   ]
  },
  {
   "cell_type": "markdown",
   "id": "aaf1b1d5-9534-4fe4-901d-d79867fd1f57",
   "metadata": {},
   "source": [
    "**2D Array (Column-wise):**"
   ]
  },
  {
   "cell_type": "code",
   "execution_count": 11,
   "id": "d270e100-e50e-41e4-b293-a91667fcc44c",
   "metadata": {},
   "outputs": [
    {
     "name": "stdout",
     "output_type": "stream",
     "text": [
      "[4. 5. 6.]\n"
     ]
    }
   ],
   "source": [
    "a = np.array([[1, 2, 3], [4, 5, 6], [7, 8, 9]])\n",
    "print(np.mean(a, axis=0))  # Output: [4. 5. 6.]\n"
   ]
  },
  {
   "cell_type": "markdown",
   "id": "eb23a00f-1b30-4da7-8c08-456b890e4e04",
   "metadata": {},
   "source": [
    "**2D Array (Row-wise):**"
   ]
  },
  {
   "cell_type": "code",
   "execution_count": 21,
   "id": "0f347257-2511-42e0-ae73-0b9a15dac4e4",
   "metadata": {},
   "outputs": [
    {
     "name": "stdout",
     "output_type": "stream",
     "text": [
      "[2. 5. 8.]\n"
     ]
    }
   ],
   "source": [
    "print(np.mean(a, axis=1))  # Output: [2. 5. 8.]\n"
   ]
  },
  {
   "cell_type": "markdown",
   "id": "3cd37969-7180-4ada-b016-becb90ec4b36",
   "metadata": {},
   "source": [
    "**Weighted Mean:**"
   ]
  },
  {
   "cell_type": "code",
   "execution_count": 24,
   "id": "53437197-8a15-4efd-b822-ffc95a30c0f5",
   "metadata": {},
   "outputs": [
    {
     "name": "stdout",
     "output_type": "stream",
     "text": [
      "3.6666666666666665\n"
     ]
    }
   ],
   "source": [
    "weights = np.array([1, 2, 3, 4, 5])\n",
    "print(np.average(arr, weights=weights))  # Output: 3.6666666666666665\n"
   ]
  },
  {
   "cell_type": "markdown",
   "id": "72404fd8-8116-46cf-8263-bc56b6626c65",
   "metadata": {},
   "source": [
    "**2. numpy.median()**\n",
    "The median() function calculates the median, the middle value in the sorted data.\n",
    "\n",
    "**Syntax:** \n",
    "*numpy.median(arr, axis=None)*\n"
   ]
  },
  {
   "cell_type": "markdown",
   "id": "452d8fa3-07b2-48cf-b711-972674c3ccb6",
   "metadata": {},
   "source": [
    "\n",
    "**Examples:**\n",
    "\n",
    "**1D Array:**"
   ]
  },
  {
   "cell_type": "code",
   "execution_count": 32,
   "id": "72e67e8d-fd3c-4670-bfd5-48d8aede5e20",
   "metadata": {},
   "outputs": [
    {
     "name": "stdout",
     "output_type": "stream",
     "text": [
      "3.0\n"
     ]
    }
   ],
   "source": [
    "arr = np.array([3, 1, 4, 2, 5])\n",
    "print(np.median(arr))  # Output: 3.0\n"
   ]
  },
  {
   "cell_type": "markdown",
   "id": "ce96745d-4ccc-4229-94b8-cbb7bd384066",
   "metadata": {},
   "source": [
    "**2D Array (Column-wise):**"
   ]
  },
  {
   "cell_type": "code",
   "execution_count": 35,
   "id": "ee1d8ab9-69fc-44c8-b278-e83260f5be3b",
   "metadata": {},
   "outputs": [
    {
     "name": "stdout",
     "output_type": "stream",
     "text": [
      "[5.5 6.5 7.5]\n"
     ]
    }
   ],
   "source": [
    "arr = np.array([[1, 2, 3], [4, 5, 6], [7, 8, 9], [10, 11, 12]])\n",
    "print(np.median(arr, axis=0))  # Output: [5.5 6.5 7.5]\n"
   ]
  },
  {
   "cell_type": "markdown",
   "id": "14030e73-87c5-42f8-8b7f-f868305700ee",
   "metadata": {},
   "source": [
    "**2D Array (Row-wise):**"
   ]
  },
  {
   "cell_type": "code",
   "execution_count": 49,
   "id": "5e7c4834-e5a8-42a5-b5ce-ba8eba208610",
   "metadata": {},
   "outputs": [
    {
     "name": "stdout",
     "output_type": "stream",
     "text": [
      "[ 2.  5.  8. 11.]\n"
     ]
    }
   ],
   "source": [
    "arr = np.array([[1, 2, 3], [4, 5, 6], [7, 8, 9], [10, 11, 12]])\n",
    "\n",
    "print(np.median(arr, axis=1))  # Output: [ 2.  5.  8. 11.]\n"
   ]
  },
  {
   "cell_type": "markdown",
   "id": "ca0b7540-731a-4a55-8f88-309ae6fccf8f",
   "metadata": {},
   "source": [
    "**3. numpy.std()**\n",
    "The std() function calculates the standard deviation, which measures the dispersion of the data.\n",
    "\n",
    "**Syntax:**\n",
    "*numpy.std(arr, axis=None)*\n"
   ]
  },
  {
   "cell_type": "markdown",
   "id": "e3173802-8318-4d37-a486-baaaf52f9189",
   "metadata": {},
   "source": [
    "**Examples:**\n",
    "\n",
    "**1D Array:**"
   ]
  },
  {
   "cell_type": "code",
   "execution_count": 53,
   "id": "37f46891-2bfa-4349-9bf1-728fbe89b885",
   "metadata": {},
   "outputs": [
    {
     "name": "stdout",
     "output_type": "stream",
     "text": [
      "1.4142135623730951\n"
     ]
    }
   ],
   "source": [
    "arr = np.array([1, 2, 3, 4, 5])\n",
    "print(np.std(arr))  # Output: 1.4142135623730951\n"
   ]
  },
  {
   "cell_type": "markdown",
   "id": "00b54c89-cdfc-4fac-a278-a9b597a0c6da",
   "metadata": {},
   "source": [
    "**2D Array:**"
   ]
  },
  {
   "cell_type": "code",
   "execution_count": 56,
   "id": "7bad310c-68c3-4378-950b-d299c9c976ce",
   "metadata": {},
   "outputs": [
    {
     "name": "stdout",
     "output_type": "stream",
     "text": [
      "1.707825127659933\n"
     ]
    }
   ],
   "source": [
    "arr = np.array([[1, 2, 3], [4, 5, 6]])\n",
    "print(np.std(arr))  # Output: 1.707825127659933\n"
   ]
  },
  {
   "cell_type": "markdown",
   "id": "7e9e8d73-c728-4c6a-a640-aff0daeeadb7",
   "metadata": {},
   "source": [
    "**4. numpy.var()**\n",
    "\n",
    "The var() function calculates the variance of the array.\n",
    "\n",
    "**Syntax:**\n",
    "*numpy.var(arr, axis=None)*\n"
   ]
  },
  {
   "cell_type": "markdown",
   "id": "d5f49ef1-9d07-4f93-b583-d483f86f71e0",
   "metadata": {},
   "source": [
    "**Example:**\n"
   ]
  },
  {
   "cell_type": "code",
   "execution_count": 60,
   "id": "bad2bbe9-51d1-4d45-b03e-a23a2b974bbd",
   "metadata": {},
   "outputs": [
    {
     "name": "stdout",
     "output_type": "stream",
     "text": [
      "2.0\n"
     ]
    }
   ],
   "source": [
    "arr = np.array([1, 2, 3, 4, 5])\n",
    "print(np.var(arr))  # Output: 2.0\n"
   ]
  },
  {
   "cell_type": "markdown",
   "id": "bb2b85df-9c8d-4993-99bd-6a93046de8c4",
   "metadata": {},
   "source": [
    "**5. numpy.percentile()**\n",
    "The percentile() function computes the q-th percentile of the data.\n",
    "\n",
    "**Syntax:**\n",
    "*numpy.percentile(arr, q)*\n"
   ]
  },
  {
   "cell_type": "markdown",
   "id": "c88884e9-bb14-40bb-9879-0042191d6064",
   "metadata": {},
   "source": [
    "**Example:**"
   ]
  },
  {
   "cell_type": "code",
   "execution_count": null,
   "id": "ac6d8c61-2c35-4186-8a95-94ed967d1e66",
   "metadata": {},
   "outputs": [],
   "source": [
    "arr = np.array([1, 2, 3, 4, 5])\n",
    "print(np.percentile(arr, 50))  # Output: 3.0\n"
   ]
  },
  {
   "cell_type": "markdown",
   "id": "5d7d4449-6cc3-44b5-a047-8131202e5d7e",
   "metadata": {},
   "source": [
    "**6. numpy.histogram()**\n",
    "The histogram() function computes the frequency distribution of data.\n",
    "\n",
    "**Syntax:**\n",
    "*numpy.histogram(arr, bins)*\n"
   ]
  },
  {
   "cell_type": "markdown",
   "id": "f3224a5c-a381-450f-bf1d-14d36e10b44c",
   "metadata": {},
   "source": [
    "**Example:**"
   ]
  },
  {
   "cell_type": "code",
   "execution_count": 75,
   "id": "c4678372-6f20-4fc6-8c79-b56964b5e6d4",
   "metadata": {},
   "outputs": [
    {
     "name": "stdout",
     "output_type": "stream",
     "text": [
      "[1 2 3 2 1]\n"
     ]
    }
   ],
   "source": [
    "arr = np.array([1, 2, 2, 3, 3, 3, 4, 4, 5])\n",
    "hist, bins = np.histogram(arr, bins=5)\n",
    "print(hist)  # Output: [1 2 3 2 1]\n"
   ]
  },
  {
   "cell_type": "markdown",
   "id": "c5b41811-5185-4351-bff1-c89e9317ca3a",
   "metadata": {},
   "source": [
    "**7. numpy.corrcoef()**\n",
    "The corrcoef() function computes the Pearson correlation coefficient.\n",
    "\n",
    "**Syntax:**\n",
    "*numpy.corrcoef(x, y)*\n",
    "\n"
   ]
  },
  {
   "cell_type": "markdown",
   "id": "1bb75c71-ab8f-43c2-b0bb-cb4bdad921f2",
   "metadata": {},
   "source": [
    "**Example:**"
   ]
  },
  {
   "cell_type": "code",
   "execution_count": 79,
   "id": "fc997864-0577-487f-a364-5ba6418623b0",
   "metadata": {},
   "outputs": [
    {
     "name": "stdout",
     "output_type": "stream",
     "text": [
      "[[1. 1.]\n",
      " [1. 1.]]\n"
     ]
    }
   ],
   "source": [
    "x = np.array([1, 2, 3])\n",
    "y = np.array([4, 5, 6])\n",
    "print(np.corrcoef(x, y))  # Output: [[1. 1.] [1. 1.]]\n"
   ]
  },
  {
   "cell_type": "markdown",
   "id": "29f45662-4f73-4364-9f57-1261ca6a1eba",
   "metadata": {},
   "source": [
    "**8. numpy.ptp()**\n",
    "The ptp() function returns the range (peak-to-peak) of values.\n",
    "\n",
    "**Syntax:**\n",
    "*numpy.ptp(arr)*\n"
   ]
  },
  {
   "cell_type": "markdown",
   "id": "05dbb634-31b7-49a6-b597-6ec04eeb57d4",
   "metadata": {},
   "source": [
    "**Example:**"
   ]
  },
  {
   "cell_type": "code",
   "execution_count": 85,
   "id": "8b4806f2-a2af-4b99-a2f4-0b013f7b58f6",
   "metadata": {},
   "outputs": [
    {
     "name": "stdout",
     "output_type": "stream",
     "text": [
      "4\n"
     ]
    }
   ],
   "source": [
    "arr = np.array([1, 2, 3, 4, 5])\n",
    "print(np.ptp(arr))  # Output: 4\n"
   ]
  },
  {
   "cell_type": "markdown",
   "id": "84cf207b-ea57-4ebc-82a2-7d6cc3be1051",
   "metadata": {},
   "source": [
    "**9. numpy.average()**\n",
    "The average() function calculates the weighted average.\n",
    "\n",
    "**Syntax:** \n",
    "*numpy.average(arr, weights=None)*\n"
   ]
  },
  {
   "cell_type": "markdown",
   "id": "c25f232f-b112-494c-8d04-c59613f9f1d6",
   "metadata": {},
   "source": [
    "**Example:**"
   ]
  },
  {
   "cell_type": "code",
   "execution_count": 94,
   "id": "f600fd8a-7f8a-4e69-8bd4-f946481dee14",
   "metadata": {},
   "outputs": [
    {
     "name": "stdout",
     "output_type": "stream",
     "text": [
      "3.6666666666666665\n"
     ]
    }
   ],
   "source": [
    "arr = np.array([1, 2, 3, 4, 5])\n",
    "weights = np.array([1, 2, 3, 4, 5])\n",
    "print(np.average(arr, weights=weights))  # Output: 3.6666666666666665\n"
   ]
  },
  {
   "cell_type": "code",
   "execution_count": null,
   "id": "f3bdfaa0-474c-4bd7-a4af-59dea2925979",
   "metadata": {},
   "outputs": [],
   "source": []
  },
  {
   "cell_type": "markdown",
   "id": "4b1ca9d1-4f08-42f3-93a2-24eeb6ae8e2a",
   "metadata": {},
   "source": [
    "**Conclusion:**\n",
    "  \n",
    "NumPy's statistical functions provide efficient and easy-to-use tools for analyzing data. Whether calculating the mean, median, or standard deviation, these functions handle large datasets and multi-dimensional arrays with ease.\n",
    "\n",
    "This summary outlines essential NumPy statistical functions along with examples and their explanations"
   ]
  },
  {
   "cell_type": "code",
   "execution_count": null,
   "id": "80e62a9a-bf0b-4aa2-b20d-35de6dd97b87",
   "metadata": {},
   "outputs": [],
   "source": []
  }
 ],
 "metadata": {
  "kernelspec": {
   "display_name": "Python 3 (ipykernel)",
   "language": "python",
   "name": "python3"
  },
  "language_info": {
   "codemirror_mode": {
    "name": "ipython",
    "version": 3
   },
   "file_extension": ".py",
   "mimetype": "text/x-python",
   "name": "python",
   "nbconvert_exporter": "python",
   "pygments_lexer": "ipython3",
   "version": "3.12.4"
  }
 },
 "nbformat": 4,
 "nbformat_minor": 5
}
